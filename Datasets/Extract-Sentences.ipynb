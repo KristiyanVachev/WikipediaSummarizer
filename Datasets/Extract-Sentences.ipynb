{
 "cells": [
  {
   "cell_type": "markdown",
   "metadata": {},
   "source": [
    "# Imports"
   ]
  },
  {
   "cell_type": "code",
   "execution_count": 1,
   "metadata": {},
   "outputs": [],
   "source": [
    "import pandas as pd\n",
    "import os"
   ]
  },
  {
   "cell_type": "code",
   "execution_count": 2,
   "metadata": {},
   "outputs": [],
   "source": [
    "import spacy\n",
    "nlp = spacy.load('en_core_web_sm')"
   ]
  },
  {
   "cell_type": "code",
   "execution_count": 3,
   "metadata": {},
   "outputs": [],
   "source": [
    "from IPython.display import Markdown, display, clear_output\n",
    "\n",
    "def printBold(string):\n",
    "    display(Markdown('**' + string + '**'))"
   ]
  },
  {
   "cell_type": "markdown",
   "metadata": {},
   "source": [
    "# Printing data"
   ]
  },
  {
   "cell_type": "code",
   "execution_count": 4,
   "metadata": {},
   "outputs": [],
   "source": [
    "def boldAnswers(titleId, paragraphId):\n",
    "\n",
    "    title = df['data'][titleId]['title']\n",
    "    paragraph = df['data'][titleId]['paragraphs'][paragraphId]['context']\n",
    "    \n",
    "    # Collect the start index and end index of each answer, and then sort it\n",
    "    answerRangeTuple = []\n",
    "        \n",
    "    for questionId in range(len( df['data'][titleId]['paragraphs'][paragraphId]['qas'])):\n",
    "        answerStart = df['data'][titleId]['paragraphs'][paragraphId]['qas'][questionId]['answers'][0]['answer_start']\n",
    "        answer = df['data'][titleId]['paragraphs'][paragraphId]['qas'][questionId]['answers'][0]['text']\n",
    "        \n",
    "        answerRangeTuple.append((answerStart, answerStart + len(answer)))\n",
    "        \n",
    "    answerRangeTuple.sort(key=lambda x: x[0], reverse=False)\n",
    "\n",
    "    # Add the indices to be split by\n",
    "    indices = [0] \n",
    "    \n",
    "    for a in answerRangeTuple:\n",
    "        indices.append(a[0])\n",
    "        indices.append(a[1])\n",
    "            \n",
    "    # Split text by answers\n",
    "    parts = [paragraph[i:j] for i,j in zip(indices, indices[1:]+[None])]\n",
    "    \n",
    "    # Append bold markdown symbols ('**') around each answer\n",
    "    text = \"\"\n",
    "    \n",
    "    for i in range(len(parts)):\n",
    "        if i % 2 == 0:\n",
    "            text += parts[i]\n",
    "        else:\n",
    "            text += ' **' + parts[i] + '** '\n",
    "\n",
    "    # Print\n",
    "    printBold(title)\n",
    "    print()\n",
    "    display(Markdown(text))"
   ]
  },
  {
   "cell_type": "code",
   "execution_count": 5,
   "metadata": {},
   "outputs": [],
   "source": [
    "def showQuestions(titleId, paragraphId):\n",
    "\n",
    "    title = df['data'][titleId]['title']\n",
    "    paragraph = df['data'][titleId]['paragraphs'][paragraphId]['context']\n",
    "\n",
    "    printBold('Questions')\n",
    "\n",
    "    for questionId in range(len(df['data'][titleId]['paragraphs'][paragraphId]['qas'])):\n",
    "        question = df['data'][titleId]['paragraphs'][paragraphId]['qas'][questionId]['question']\n",
    "        answer = df['data'][titleId]['paragraphs'][paragraphId]['qas'][questionId]['answers'][0]['text']\n",
    "        \n",
    "        print(question)\n",
    "        printBold(answer)"
   ]
  },
  {
   "cell_type": "markdown",
   "metadata": {},
   "source": [
    "# Loading data"
   ]
  },
  {
   "cell_type": "code",
   "execution_count": 6,
   "metadata": {},
   "outputs": [],
   "source": [
    "df = pd.read_json('../data/squad-v1/train-v1.1.json', orient='column')"
   ]
  },
  {
   "cell_type": "code",
   "execution_count": 7,
   "metadata": {},
   "outputs": [],
   "source": [
    "titleId = 0\n",
    "paragraphId = 0\n",
    "\n",
    "title = df['data'][titleId]['title']\n",
    "paragraph = df['data'][titleId]['paragraphs'][paragraphId]['context']\n",
    "qas = df['data'][titleId]['paragraphs'][paragraphId]['qas']"
   ]
  },
  {
   "cell_type": "code",
   "execution_count": 8,
   "metadata": {},
   "outputs": [],
   "source": [
    "doc = nlp(paragraph)"
   ]
  },
  {
   "cell_type": "code",
   "execution_count": 9,
   "metadata": {},
   "outputs": [
    {
     "name": "stdout",
     "output_type": "stream",
     "text": [
      "Architecturally, the school has a Catholic character.\n",
      "Atop the Main Building's gold dome is a golden statue of the Virgin Mary.\n",
      "Immediately in front of the Main Building and facing it, is a copper statue of Christ with arms upraised with the legend \"Venite Ad Me Omnes\".\n",
      "Next to the Main Building is the Basilica of the Sacred Heart.\n",
      "Immediately behind the basilica is the Grotto, a Marian place of prayer and reflection.\n",
      "It is a replica of the grotto at Lourdes, France where the Virgin Mary reputedly appeared to Saint Bernadette Soubirous in 1858.\n",
      "At the end of the main drive (and in a direct line that connects through 3 statues and the Gold Dome), is a simple, modern stone statue of Mary.\n"
     ]
    }
   ],
   "source": [
    "for sent in doc.sents:\n",
    "    print(sent)"
   ]
  },
  {
   "cell_type": "code",
   "execution_count": 10,
   "metadata": {},
   "outputs": [
    {
     "name": "stdout",
     "output_type": "stream",
     "text": [
      "515\n",
      "188\n",
      "279\n",
      "381\n",
      "92\n"
     ]
    }
   ],
   "source": [
    "for qa in qas:\n",
    "    print(qa['answers'][0]['answer_start'])"
   ]
  },
  {
   "cell_type": "code",
   "execution_count": 11,
   "metadata": {},
   "outputs": [
    {
     "name": "stdout",
     "output_type": "stream",
     "text": [
      "0\n",
      "54\n",
      "128\n",
      "271\n",
      "334\n",
      "422\n",
      "551\n"
     ]
    }
   ],
   "source": [
    "for sent in doc.sents:\n",
    "    print(sent[0].idx)"
   ]
  },
  {
   "cell_type": "markdown",
   "metadata": {},
   "source": [
    "# Functions\n"
   ]
  },
  {
   "cell_type": "code",
   "execution_count": 12,
   "metadata": {},
   "outputs": [],
   "source": [
    "\n",
    "def get_answer_starts(titleId, paragraphId):\n",
    "    qas = df['data'][titleId]['paragraphs'][paragraphId]['qas']\n",
    "    \n",
    "    answer_starts = []\n",
    "    \n",
    "    for qa in qas:\n",
    "        answer_starts.append(qa['answers'][0]['answer_start'])\n",
    "        \n",
    "    return answer_starts\n",
    "    "
   ]
  },
  {
   "cell_type": "code",
   "execution_count": 13,
   "metadata": {},
   "outputs": [],
   "source": [
    "answer_starts = get_answer_starts(0,0)"
   ]
  },
  {
   "cell_type": "code",
   "execution_count": 14,
   "metadata": {},
   "outputs": [],
   "source": [
    "def label_sentences(titleId, paragraphId):\n",
    "    title = df['data'][titleId]['title']\n",
    "    paragraph = df['data'][titleId]['paragraphs'][paragraphId]['context']\n",
    "    \n",
    "    answer_starts = get_answer_starts(titleId, paragraphId)\n",
    "    \n",
    "    important = []\n",
    "    unimportant = []\n",
    "    \n",
    "    doc = nlp(paragraph)\n",
    "    \n",
    "    for sent in doc.sents:\n",
    "        sentStart = sent[0].idx\n",
    "        sentEnd = doc[sent.end - 1].idx\n",
    "        found = False\n",
    "        \n",
    "        for answer_start in answer_starts:\n",
    "            if answer_start >= sentStart and answer_start < sentEnd:\n",
    "                important.append(sent)\n",
    "                found = True\n",
    "                break\n",
    "        \n",
    "        if not found:\n",
    "            unimportant.append(sent)\n",
    "                \n",
    "    return important, unimportant"
   ]
  },
  {
   "cell_type": "markdown",
   "metadata": {},
   "source": [
    "# Testing"
   ]
  },
  {
   "cell_type": "code",
   "execution_count": 15,
   "metadata": {},
   "outputs": [],
   "source": [
    "important, unimportant = label_sentences(42, 1)"
   ]
  },
  {
   "cell_type": "code",
   "execution_count": 16,
   "metadata": {},
   "outputs": [
    {
     "data": {
      "text/plain": [
       "[Schwarzenegger began weight training at the age of 15.,\n",
       " He won the Mr. Universe title at age 20 and went on to win the Mr. Olympia contest seven times.,\n",
       " His breakthrough film was the sword-and-sorcery epic Conan the Barbarian in 1982, which was a box-office hit and resulted in a sequel.,\n",
       " He was nicknamed the \"Austrian Oak\" in his bodybuilding days, \"Arnie\" during his acting career, and \"The Governator\" (a portmanteau of \"Governor\" and \"The Terminator\", one of his best-known movie roles).]"
      ]
     },
     "execution_count": 16,
     "metadata": {},
     "output_type": "execute_result"
    }
   ],
   "source": [
    "important"
   ]
  },
  {
   "cell_type": "code",
   "execution_count": 17,
   "metadata": {},
   "outputs": [
    {
     "data": {
      "text/plain": [
       "[Schwarzenegger has remained a prominent presence in bodybuilding and has written many books and articles on the sport.,\n",
       " He is widely considered to be among the greatest bodybuilders of all times as well as its biggest icon.,\n",
       " Schwarzenegger gained worldwide fame as a Hollywood action film icon.,\n",
       " In 1984, he appeared in James Cameron's science-fiction thriller film The Terminator, which was a massive critical and box-office success.,\n",
       " Schwarzenegger subsequently reprised the Terminator character in the franchise's later installments in 1991, 2003, and 2015.,\n",
       " He appeared in a number of successful films, such as Commando (1985), The Running Man (1987), Predator (1987), Twins (1988), Total Recall (1990), Kindergarten Cop (1990) and True Lies (1994).]"
      ]
     },
     "execution_count": 17,
     "metadata": {},
     "output_type": "execute_result"
    }
   ],
   "source": [
    "unimportant"
   ]
  },
  {
   "cell_type": "code",
   "execution_count": 18,
   "metadata": {},
   "outputs": [
    {
     "data": {
      "text/markdown": [
       "**University_of_Notre_Dame**"
      ],
      "text/plain": [
       "<IPython.core.display.Markdown object>"
      ]
     },
     "metadata": {},
     "output_type": "display_data"
    },
    {
     "name": "stdout",
     "output_type": "stream",
     "text": [
      "\n"
     ]
    },
    {
     "data": {
      "text/markdown": [
       "Architecturally, the school has a Catholic character. Atop the Main Building's gold dome is  **a golden statue of the Virgin Mary** . Immediately in front of the Main Building and facing it, is  **a copper statue of Christ**  with arms upraised with the legend \"Venite Ad Me Omnes\". Next to  **the Main Building**  is the Basilica of the Sacred Heart. Immediately behind the basilica is the Grotto,  **a Marian place of prayer and reflection** . It is a replica of the grotto at Lourdes, France where the Virgin Mary reputedly appeared to  **Saint Bernadette Soubirous**  in 1858. At the end of the main drive (and in a direct line that connects through 3 statues and the Gold Dome), is a simple, modern stone statue of Mary."
      ],
      "text/plain": [
       "<IPython.core.display.Markdown object>"
      ]
     },
     "metadata": {},
     "output_type": "display_data"
    },
    {
     "data": {
      "text/markdown": [
       "**Questions**"
      ],
      "text/plain": [
       "<IPython.core.display.Markdown object>"
      ]
     },
     "metadata": {},
     "output_type": "display_data"
    },
    {
     "name": "stdout",
     "output_type": "stream",
     "text": [
      "To whom did the Virgin Mary allegedly appear in 1858 in Lourdes France?\n"
     ]
    },
    {
     "data": {
      "text/markdown": [
       "**Saint Bernadette Soubirous**"
      ],
      "text/plain": [
       "<IPython.core.display.Markdown object>"
      ]
     },
     "metadata": {},
     "output_type": "display_data"
    },
    {
     "name": "stdout",
     "output_type": "stream",
     "text": [
      "What is in front of the Notre Dame Main Building?\n"
     ]
    },
    {
     "data": {
      "text/markdown": [
       "**a copper statue of Christ**"
      ],
      "text/plain": [
       "<IPython.core.display.Markdown object>"
      ]
     },
     "metadata": {},
     "output_type": "display_data"
    },
    {
     "name": "stdout",
     "output_type": "stream",
     "text": [
      "The Basilica of the Sacred heart at Notre Dame is beside to which structure?\n"
     ]
    },
    {
     "data": {
      "text/markdown": [
       "**the Main Building**"
      ],
      "text/plain": [
       "<IPython.core.display.Markdown object>"
      ]
     },
     "metadata": {},
     "output_type": "display_data"
    },
    {
     "name": "stdout",
     "output_type": "stream",
     "text": [
      "What is the Grotto at Notre Dame?\n"
     ]
    },
    {
     "data": {
      "text/markdown": [
       "**a Marian place of prayer and reflection**"
      ],
      "text/plain": [
       "<IPython.core.display.Markdown object>"
      ]
     },
     "metadata": {},
     "output_type": "display_data"
    },
    {
     "name": "stdout",
     "output_type": "stream",
     "text": [
      "What sits on top of the Main Building at Notre Dame?\n"
     ]
    },
    {
     "data": {
      "text/markdown": [
       "**a golden statue of the Virgin Mary**"
      ],
      "text/plain": [
       "<IPython.core.display.Markdown object>"
      ]
     },
     "metadata": {},
     "output_type": "display_data"
    },
    {
     "data": {
      "text/markdown": [
       "**Important:**"
      ],
      "text/plain": [
       "<IPython.core.display.Markdown object>"
      ]
     },
     "metadata": {},
     "output_type": "display_data"
    },
    {
     "name": "stdout",
     "output_type": "stream",
     "text": [
      "Atop the Main Building's gold dome is a golden statue of the Virgin Mary.\n",
      "Immediately in front of the Main Building and facing it, is a copper statue of Christ with arms upraised with the legend \"Venite Ad Me Omnes\".\n",
      "Next to the Main Building is the Basilica of the Sacred Heart.\n",
      "Immediately behind the basilica is the Grotto, a Marian place of prayer and reflection.\n",
      "It is a replica of the grotto at Lourdes, France where the Virgin Mary reputedly appeared to Saint Bernadette Soubirous in 1858.\n"
     ]
    },
    {
     "data": {
      "text/markdown": [
       "**Unimportant:**"
      ],
      "text/plain": [
       "<IPython.core.display.Markdown object>"
      ]
     },
     "metadata": {},
     "output_type": "display_data"
    },
    {
     "name": "stdout",
     "output_type": "stream",
     "text": [
      "Architecturally, the school has a Catholic character.\n",
      "At the end of the main drive (and in a direct line that connects through 3 statues and the Gold Dome), is a simple, modern stone statue of Mary.\n"
     ]
    }
   ],
   "source": [
    "titleId = 0\n",
    "textId = 0\n",
    "\n",
    "important, unimportant = label_sentences(titleId, paragraphId)\n",
    "\n",
    "boldAnswers(titleId, textId)\n",
    "showQuestions(titleId, textId)\n",
    "\n",
    "printBold('Important:')\n",
    "for sent in important:\n",
    "    print(sent)\n",
    "\n",
    "printBold('Unimportant:')\n",
    "for sent in unimportant:\n",
    "    print(sent)\n"
   ]
  },
  {
   "cell_type": "markdown",
   "metadata": {},
   "source": [
    "# Create dataset"
   ]
  },
  {
   "cell_type": "markdown",
   "metadata": {},
   "source": [
    "## Generate sentences"
   ]
  },
  {
   "cell_type": "code",
   "execution_count": null,
   "metadata": {},
   "outputs": [],
   "source": [
    "sentDf = []"
   ]
  },
  {
   "cell_type": "code",
   "execution_count": 19,
   "metadata": {},
   "outputs": [],
   "source": [
    "titles = 100\n",
    "\n",
    "important = []\n",
    "unimportant = []\n",
    "\n",
    "for titleId in range(titles):\n",
    "    paragraphCount = len(df['data'][titleId]['paragraphs'])\n",
    "    \n",
    "    for paragraphId in range(paragraphCount):\n",
    "        currImportant, currUnimportant = label_sentences(titleId, paragraphId)\n",
    "        \n",
    "        important += currImportant\n",
    "        unimportant += currUnimportant"
   ]
  },
  {
   "cell_type": "code",
   "execution_count": 20,
   "metadata": {},
   "outputs": [
    {
     "name": "stdout",
     "output_type": "stream",
     "text": [
      "13344 7777\n"
     ]
    }
   ],
   "source": [
    "print(len(important), len(unimportant))"
   ]
  },
  {
   "cell_type": "markdown",
   "metadata": {},
   "source": [
    "## Pickle"
   ]
  },
  {
   "cell_type": "code",
   "execution_count": 21,
   "metadata": {},
   "outputs": [],
   "source": [
    "import _pickle as cPickle\n",
    "from pathlib import Path\n",
    "\n",
    "def dumpPickle(fileName, content):\n",
    "    pickleFile = open(fileName, 'wb')\n",
    "    cPickle.dump(content, pickleFile, -1)\n",
    "    pickleFile.close()\n",
    "\n",
    "def loadPickle(fileName):    \n",
    "    file = open(fileName, 'rb')\n",
    "    content = cPickle.load(file)\n",
    "    file.close()\n",
    "    \n",
    "    return content\n",
    "    \n",
    "def pickleExists(fileName):\n",
    "    file = Path(fileName)\n",
    "    \n",
    "    if file.is_file():\n",
    "        return True\n",
    "    \n",
    "    return False"
   ]
  },
  {
   "cell_type": "markdown",
   "metadata": {},
   "source": [
    "## Create df"
   ]
  },
  {
   "cell_type": "code",
   "execution_count": 22,
   "metadata": {},
   "outputs": [
    {
     "data": {
      "text/plain": [
       "[\"Atop the Main Building's gold dome is a golden statue of the Virgin Mary.\",\n",
       " 'Immediately in front of the Main Building and facing it, is a copper statue of Christ with arms upraised with the legend \"Venite Ad Me Omnes\".',\n",
       " 'Next to the Main Building is the Basilica of the Sacred Heart.',\n",
       " 'Immediately behind the basilica is the Grotto, a Marian place of prayer and reflection.',\n",
       " 'It is a replica of the grotto at Lourdes, France where the Virgin Mary reputedly appeared to Saint Bernadette Soubirous in 1858.',\n",
       " 'The nine student-run outlets include three newspapers, both a radio and television station, and several magazines and journals.',\n",
       " 'Begun as a one-page journal in September 1876, the Scholastic magazine is issued twice monthly and claims to be the oldest continuous collegiate publication in the United States.',\n",
       " 'The other magazine, The Juggler, is released twice a year and focuses on student literature and artwork.',\n",
       " \"The newspapers have varying publication interests, with The Observer published daily and mainly reporting university and other news, and staffed by students from both Notre Dame and Saint Mary's College.\",\n",
       " 'In 1987, when some students believed that The Observer began to show a conservative bias, a liberal newspaper, Common Sense was published.']"
      ]
     },
     "execution_count": 22,
     "metadata": {},
     "output_type": "execute_result"
    }
   ],
   "source": [
    "[(lambda x: x.text)(im) for im in important][:10]"
   ]
  },
  {
   "cell_type": "code",
   "execution_count": 23,
   "metadata": {},
   "outputs": [],
   "source": [
    "importantDf = pd.DataFrame(data=[(lambda x: x.text)(im) for im in important], columns=['Sentence'])"
   ]
  },
  {
   "cell_type": "code",
   "execution_count": 24,
   "metadata": {},
   "outputs": [
    {
     "data": {
      "text/html": [
       "<div>\n",
       "<style scoped>\n",
       "    .dataframe tbody tr th:only-of-type {\n",
       "        vertical-align: middle;\n",
       "    }\n",
       "\n",
       "    .dataframe tbody tr th {\n",
       "        vertical-align: top;\n",
       "    }\n",
       "\n",
       "    .dataframe thead th {\n",
       "        text-align: right;\n",
       "    }\n",
       "</style>\n",
       "<table border=\"1\" class=\"dataframe\">\n",
       "  <thead>\n",
       "    <tr style=\"text-align: right;\">\n",
       "      <th></th>\n",
       "      <th>Sentence</th>\n",
       "    </tr>\n",
       "  </thead>\n",
       "  <tbody>\n",
       "    <tr>\n",
       "      <th>0</th>\n",
       "      <td>Atop the Main Building's gold dome is a golden...</td>\n",
       "    </tr>\n",
       "    <tr>\n",
       "      <th>1</th>\n",
       "      <td>Immediately in front of the Main Building and ...</td>\n",
       "    </tr>\n",
       "    <tr>\n",
       "      <th>2</th>\n",
       "      <td>Next to the Main Building is the Basilica of t...</td>\n",
       "    </tr>\n",
       "    <tr>\n",
       "      <th>3</th>\n",
       "      <td>Immediately behind the basilica is the Grotto,...</td>\n",
       "    </tr>\n",
       "    <tr>\n",
       "      <th>4</th>\n",
       "      <td>It is a replica of the grotto at Lourdes, Fran...</td>\n",
       "    </tr>\n",
       "  </tbody>\n",
       "</table>\n",
       "</div>"
      ],
      "text/plain": [
       "                                            Sentence\n",
       "0  Atop the Main Building's gold dome is a golden...\n",
       "1  Immediately in front of the Main Building and ...\n",
       "2  Next to the Main Building is the Basilica of t...\n",
       "3  Immediately behind the basilica is the Grotto,...\n",
       "4  It is a replica of the grotto at Lourdes, Fran..."
      ]
     },
     "execution_count": 24,
     "metadata": {},
     "output_type": "execute_result"
    }
   ],
   "source": [
    "importantDf.head()"
   ]
  },
  {
   "cell_type": "code",
   "execution_count": 25,
   "metadata": {},
   "outputs": [],
   "source": [
    "dumpPickle('../data/important-100.pkl', importantDf)"
   ]
  },
  {
   "cell_type": "code",
   "execution_count": 26,
   "metadata": {},
   "outputs": [],
   "source": [
    "unimportantDf = pd.DataFrame(data=[(lambda x: x.text)(un) for un in unimportant], columns=['Sentence'])"
   ]
  },
  {
   "cell_type": "code",
   "execution_count": 27,
   "metadata": {},
   "outputs": [],
   "source": [
    "dumpPickle('../data/unimportant-100.pkl', unimportantDf)"
   ]
  },
  {
   "cell_type": "markdown",
   "metadata": {},
   "source": [
    "# Features"
   ]
  },
  {
   "cell_type": "markdown",
   "metadata": {},
   "source": [
    "## Named entities"
   ]
  },
  {
   "cell_type": "code",
   "execution_count": 28,
   "metadata": {},
   "outputs": [],
   "source": [
    "def getNeCount(sentences):\n",
    "    count = 0\n",
    "    \n",
    "    for sent in sentences:\n",
    "        count += len(sent.ents)\n",
    "    \n",
    "    return count"
   ]
  },
  {
   "cell_type": "code",
   "execution_count": 29,
   "metadata": {},
   "outputs": [
    {
     "name": "stdout",
     "output_type": "stream",
     "text": [
      "Average count of named entities in important 3.093525179856115\n",
      "Average count of named entities in unimportant 1.9674681753889676\n"
     ]
    }
   ],
   "source": [
    "ne_avg_important = getNeCount(important)/len(important)\n",
    "ne_avg_unimportant = getNeCount(unimportant)/len(unimportant)\n",
    "\n",
    "print('Average count of named entities in important', ne_avg_important)\n",
    "print('Average count of named entities in unimportant', ne_avg_unimportant)"
   ]
  },
  {
   "cell_type": "markdown",
   "metadata": {},
   "source": [
    "## TF/IDF"
   ]
  },
  {
   "cell_type": "code",
   "execution_count": null,
   "metadata": {},
   "outputs": [],
   "source": [
    "## load freq"
   ]
  },
  {
   "cell_type": "code",
   "execution_count": 30,
   "metadata": {},
   "outputs": [],
   "source": [
    "def get_frequencies(doc):\n",
    "    freqs = {}\n",
    "    \n",
    "    for token in doc:\n",
    "        if token.is_punct:\n",
    "            continue\n",
    "\n",
    "        word = token.text.lower()\n",
    "\n",
    "        if word in freqs:\n",
    "            freqs[word] += 1\n",
    "        else:\n",
    "            freqs[word] = 0\n",
    "\n",
    "    return freqs"
   ]
  },
  {
   "cell_type": "code",
   "execution_count": null,
   "metadata": {},
   "outputs": [],
   "source": [
    "currFreq = get_frequencies()"
   ]
  },
  {
   "cell_type": "code",
   "execution_count": 32,
   "metadata": {},
   "outputs": [],
   "source": [
    "def compute_tfidf(keyword, doc, startToken, endToken, currFreq, titleFreq, paragraphFreq):\n",
    "    \n",
    "    tf = compute_tf(doc, startToken, endToken, currFreq)\n",
    "\n",
    "    idfTitle = compute_idf(doc, startToken, endToken, titleFreq)\n",
    "    idfParagraph = compute_idf(doc, startToken, endToken, paragraphFreq)\n",
    "\n",
    "    # Results\n",
    "    keyword.tfidfTitle = tf * idfTitle\n",
    "    keyword.tfidfParagraph = tf * idfParagraph        \n"
   ]
  },
  {
   "cell_type": "code",
   "execution_count": 33,
   "metadata": {},
   "outputs": [],
   "source": [
    "def compute_tf(doc, startToken, endToken, currFreq):\n",
    "    keywordWordCount = endToken - startToken + 1\n",
    "   \n",
    "    totalFreq = 0\n",
    "\n",
    "    for i in range(startToken, endToken + 1):\n",
    "        word = doc[i].text.lower()\n",
    "\n",
    "        totalFreq = 0 if word not in currFreq else currFreq[word]\n",
    "\n",
    "    tf = (totalFreq / keywordWordCount) / len(currFreq)\n",
    "    \n",
    "    return tf"
   ]
  },
  {
   "cell_type": "code",
   "execution_count": 34,
   "metadata": {},
   "outputs": [],
   "source": [
    "def compute_idf(doc, startToken, endToken, wordFreq):\n",
    "    keywordWordCount = endToken - startToken + 1\n",
    "\n",
    "    totalFreq = 0\n",
    "\n",
    "    for i in range(startToken, endToken + 1):  \n",
    "        word = doc[i].text.lower()\n",
    "        \n",
    "        totalFreq += 0 if word not in wordFreq else wordFreq[word]\n",
    "\n",
    "    # In case the word is not found, count is a being found only once. Avoiding division by zero.\n",
    "    currFreq = 1 if totalFreq / keywordWordCount == 0 else totalFreq / keywordWordCount\n",
    "    idf = math.log(len(wordFreq) / currFreq)\n",
    "\n",
    "    return idf"
   ]
  },
  {
   "cell_type": "code",
   "execution_count": null,
   "metadata": {},
   "outputs": [],
   "source": [
    "compute"
   ]
  }
 ],
 "metadata": {
  "kernelspec": {
   "display_name": "Python 3",
   "language": "python",
   "name": "python3"
  },
  "language_info": {
   "codemirror_mode": {
    "name": "ipython",
    "version": 3
   },
   "file_extension": ".py",
   "mimetype": "text/x-python",
   "name": "python",
   "nbconvert_exporter": "python",
   "pygments_lexer": "ipython3",
   "version": "3.7.2"
  }
 },
 "nbformat": 4,
 "nbformat_minor": 4
}
