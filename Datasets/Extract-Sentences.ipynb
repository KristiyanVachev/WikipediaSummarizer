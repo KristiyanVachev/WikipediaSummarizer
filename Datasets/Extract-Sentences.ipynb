{
 "cells": [
  {
   "cell_type": "markdown",
   "metadata": {},
   "source": [
    "# Imports"
   ]
  },
  {
   "cell_type": "code",
   "execution_count": 2,
   "metadata": {},
   "outputs": [],
   "source": [
    "import pandas as pd\n",
    "import os"
   ]
  },
  {
   "cell_type": "code",
   "execution_count": 15,
   "metadata": {},
   "outputs": [],
   "source": [
    "import spacy\n",
    "nlp = spacy.load('en_core_web_sm')"
   ]
  },
  {
   "cell_type": "code",
   "execution_count": 96,
   "metadata": {},
   "outputs": [],
   "source": [
    "from IPython.display import Markdown, display, clear_output\n",
    "\n",
    "def printBold(string):\n",
    "    display(Markdown('**' + string + '**'))"
   ]
  },
  {
   "cell_type": "markdown",
   "metadata": {},
   "source": [
    "# Printing data"
   ]
  },
  {
   "cell_type": "code",
   "execution_count": 98,
   "metadata": {},
   "outputs": [],
   "source": [
    "def boldAnswers(titleId, paragraphId):\n",
    "\n",
    "    title = df['data'][titleId]['title']\n",
    "    paragraph = df['data'][titleId]['paragraphs'][paragraphId]['context']\n",
    "    \n",
    "    # Collect the start index and end index of each answer, and then sort it\n",
    "    answerRangeTuple = []\n",
    "        \n",
    "    for questionId in range(len( df['data'][titleId]['paragraphs'][paragraphId]['qas'])):\n",
    "        answerStart = df['data'][titleId]['paragraphs'][paragraphId]['qas'][questionId]['answers'][0]['answer_start']\n",
    "        answer = df['data'][titleId]['paragraphs'][paragraphId]['qas'][questionId]['answers'][0]['text']\n",
    "        \n",
    "        answerRangeTuple.append((answerStart, answerStart + len(answer)))\n",
    "        \n",
    "    answerRangeTuple.sort(key=lambda x: x[0], reverse=False)\n",
    "\n",
    "    # Add the indices to be split by\n",
    "    indices = [0] \n",
    "    \n",
    "    for a in answerRangeTuple:\n",
    "        indices.append(a[0])\n",
    "        indices.append(a[1])\n",
    "            \n",
    "    # Split text by answers\n",
    "    parts = [paragraph[i:j] for i,j in zip(indices, indices[1:]+[None])]\n",
    "    \n",
    "    # Append bold markdown symbols ('**') around each answer\n",
    "    text = \"\"\n",
    "    \n",
    "    for i in range(len(parts)):\n",
    "        if i % 2 == 0:\n",
    "            text += parts[i]\n",
    "        else:\n",
    "            text += ' **' + parts[i] + '** '\n",
    "\n",
    "    # Print\n",
    "    printBold(title)\n",
    "    print()\n",
    "    display(Markdown(text))"
   ]
  },
  {
   "cell_type": "code",
   "execution_count": 99,
   "metadata": {},
   "outputs": [],
   "source": [
    "def showQuestions(titleId, paragraphId):\n",
    "\n",
    "    title = df['data'][titleId]['title']\n",
    "    paragraph = df['data'][titleId]['paragraphs'][paragraphId]['context']\n",
    "\n",
    "    printBold('Questions')\n",
    "\n",
    "    for questionId in range(len(df['data'][titleId]['paragraphs'][paragraphId]['qas'])):\n",
    "        question = df['data'][titleId]['paragraphs'][paragraphId]['qas'][questionId]['question']\n",
    "        answer = df['data'][titleId]['paragraphs'][paragraphId]['qas'][questionId]['answers'][0]['text']\n",
    "        \n",
    "        print(question)\n",
    "        printBold(answer)"
   ]
  },
  {
   "cell_type": "markdown",
   "metadata": {},
   "source": [
    "# Loading data"
   ]
  },
  {
   "cell_type": "code",
   "execution_count": 5,
   "metadata": {},
   "outputs": [],
   "source": [
    "df = pd.read_json('../data/squad-v1/train-v1.1.json', orient='column')"
   ]
  },
  {
   "cell_type": "code",
   "execution_count": 49,
   "metadata": {},
   "outputs": [],
   "source": [
    "titleId = 0\n",
    "paragraphId = 0\n",
    "\n",
    "title = df['data'][titleId]['title']\n",
    "paragraph = df['data'][titleId]['paragraphs'][paragraphId]['context']\n",
    "qas = df['data'][titleId]['paragraphs'][paragraphId]['qas']"
   ]
  },
  {
   "cell_type": "code",
   "execution_count": 16,
   "metadata": {},
   "outputs": [],
   "source": [
    "doc = nlp(paragraph)"
   ]
  },
  {
   "cell_type": "code",
   "execution_count": 37,
   "metadata": {},
   "outputs": [
    {
     "name": "stdout",
     "output_type": "stream",
     "text": [
      "Architecturally, the school has a Catholic character.\n",
      "Atop the Main Building's gold dome is a golden statue of the Virgin Mary.\n",
      "Immediately in front of the Main Building and facing it, is a copper statue of Christ with arms upraised with the legend \"Venite Ad Me Omnes\".\n",
      "Next to the Main Building is the Basilica of the Sacred Heart.\n",
      "Immediately behind the basilica is the Grotto, a Marian place of prayer and reflection.\n",
      "It is a replica of the grotto at Lourdes, France where the Virgin Mary reputedly appeared to Saint Bernadette Soubirous in 1858.\n",
      "At the end of the main drive (and in a direct line that connects through 3 statues and the Gold Dome), is a simple, modern stone statue of Mary.\n"
     ]
    }
   ],
   "source": [
    "for sent in doc.sents:\n",
    "    print(sent)"
   ]
  },
  {
   "cell_type": "code",
   "execution_count": 38,
   "metadata": {},
   "outputs": [
    {
     "name": "stdout",
     "output_type": "stream",
     "text": [
      "515\n",
      "188\n",
      "279\n",
      "381\n",
      "92\n"
     ]
    }
   ],
   "source": [
    "for qa in qas:\n",
    "    print(qa['answers'][0]['answer_start'])"
   ]
  },
  {
   "cell_type": "code",
   "execution_count": 48,
   "metadata": {},
   "outputs": [
    {
     "name": "stdout",
     "output_type": "stream",
     "text": [
      "0\n",
      "54\n",
      "128\n",
      "271\n",
      "334\n",
      "422\n",
      "551\n"
     ]
    }
   ],
   "source": [
    "for sent in doc.sents:\n",
    "    print(sent[0].idx)"
   ]
  },
  {
   "cell_type": "markdown",
   "metadata": {},
   "source": [
    "# Functions\n"
   ]
  },
  {
   "cell_type": "code",
   "execution_count": 94,
   "metadata": {},
   "outputs": [],
   "source": [
    "\n",
    "def get_answer_starts(titleId, paragraphId):\n",
    "    qas = df['data'][titleId]['paragraphs'][paragraphId]['qas']\n",
    "    \n",
    "    answer_starts = []\n",
    "    \n",
    "    for qa in qas:\n",
    "        answer_starts.append(qa['answers'][0]['answer_start'])\n",
    "        \n",
    "    return answer_starts\n",
    "    "
   ]
  },
  {
   "cell_type": "code",
   "execution_count": 64,
   "metadata": {},
   "outputs": [],
   "source": [
    "answer_starts = get_answer_starts(0,0)"
   ]
  },
  {
   "cell_type": "code",
   "execution_count": 83,
   "metadata": {},
   "outputs": [],
   "source": [
    "def label_sentences(titleId, paragraphId):\n",
    "    title = df['data'][titleId]['title']\n",
    "    paragraph = df['data'][titleId]['paragraphs'][paragraphId]['context']\n",
    "    \n",
    "    answer_starts = get_answer_starts(titleId, paragraphId)\n",
    "    \n",
    "    important = []\n",
    "    unimportant = []\n",
    "    \n",
    "    doc = nlp(paragraph)\n",
    "    \n",
    "    for sent in doc.sents:\n",
    "        sentStart = sent[0].idx\n",
    "        sentEnd = doc[sent.end - 1].idx\n",
    "        found = False\n",
    "        \n",
    "        for answer_start in answer_starts:\n",
    "            if answer_start >= sentStart and answer_start < sentEnd:\n",
    "                important.append(sent)\n",
    "                found = True\n",
    "                break\n",
    "        \n",
    "        if not found:\n",
    "            unimportant.append(sent)\n",
    "                \n",
    "    return important, unimportant"
   ]
  },
  {
   "cell_type": "markdown",
   "metadata": {},
   "source": [
    "# Testing"
   ]
  },
  {
   "cell_type": "code",
   "execution_count": 90,
   "metadata": {},
   "outputs": [],
   "source": [
    "important, unimportant = label_sentences(42, 1)"
   ]
  },
  {
   "cell_type": "code",
   "execution_count": 95,
   "metadata": {},
   "outputs": [
    {
     "data": {
      "text/plain": [
       "[Schwarzenegger began weight training at the age of 15.,\n",
       " He won the Mr. Universe title at age 20 and went on to win the Mr. Olympia contest seven times.,\n",
       " His breakthrough film was the sword-and-sorcery epic Conan the Barbarian in 1982, which was a box-office hit and resulted in a sequel.,\n",
       " He was nicknamed the \"Austrian Oak\" in his bodybuilding days, \"Arnie\" during his acting career, and \"The Governator\" (a portmanteau of \"Governor\" and \"The Terminator\", one of his best-known movie roles).]"
      ]
     },
     "execution_count": 95,
     "metadata": {},
     "output_type": "execute_result"
    }
   ],
   "source": [
    "important"
   ]
  },
  {
   "cell_type": "code",
   "execution_count": 92,
   "metadata": {},
   "outputs": [
    {
     "data": {
      "text/plain": [
       "[Schwarzenegger has remained a prominent presence in bodybuilding and has written many books and articles on the sport.,\n",
       " He is widely considered to be among the greatest bodybuilders of all times as well as its biggest icon.,\n",
       " Schwarzenegger gained worldwide fame as a Hollywood action film icon.,\n",
       " In 1984, he appeared in James Cameron's science-fiction thriller film The Terminator, which was a massive critical and box-office success.,\n",
       " Schwarzenegger subsequently reprised the Terminator character in the franchise's later installments in 1991, 2003, and 2015.,\n",
       " He appeared in a number of successful films, such as Commando (1985), The Running Man (1987), Predator (1987), Twins (1988), Total Recall (1990), Kindergarten Cop (1990) and True Lies (1994).]"
      ]
     },
     "execution_count": 92,
     "metadata": {},
     "output_type": "execute_result"
    }
   ],
   "source": [
    "unimportant"
   ]
  },
  {
   "cell_type": "code",
   "execution_count": 108,
   "metadata": {},
   "outputs": [
    {
     "data": {
      "text/markdown": [
       "**University_of_Notre_Dame**"
      ],
      "text/plain": [
       "<IPython.core.display.Markdown object>"
      ]
     },
     "metadata": {},
     "output_type": "display_data"
    },
    {
     "name": "stdout",
     "output_type": "stream",
     "text": [
      "\n"
     ]
    },
    {
     "data": {
      "text/markdown": [
       "Architecturally, the school has a Catholic character. Atop the Main Building's gold dome is  **a golden statue of the Virgin Mary** . Immediately in front of the Main Building and facing it, is  **a copper statue of Christ**  with arms upraised with the legend \"Venite Ad Me Omnes\". Next to  **the Main Building**  is the Basilica of the Sacred Heart. Immediately behind the basilica is the Grotto,  **a Marian place of prayer and reflection** . It is a replica of the grotto at Lourdes, France where the Virgin Mary reputedly appeared to  **Saint Bernadette Soubirous**  in 1858. At the end of the main drive (and in a direct line that connects through 3 statues and the Gold Dome), is a simple, modern stone statue of Mary."
      ],
      "text/plain": [
       "<IPython.core.display.Markdown object>"
      ]
     },
     "metadata": {},
     "output_type": "display_data"
    },
    {
     "data": {
      "text/markdown": [
       "**Questions**"
      ],
      "text/plain": [
       "<IPython.core.display.Markdown object>"
      ]
     },
     "metadata": {},
     "output_type": "display_data"
    },
    {
     "name": "stdout",
     "output_type": "stream",
     "text": [
      "To whom did the Virgin Mary allegedly appear in 1858 in Lourdes France?\n"
     ]
    },
    {
     "data": {
      "text/markdown": [
       "**Saint Bernadette Soubirous**"
      ],
      "text/plain": [
       "<IPython.core.display.Markdown object>"
      ]
     },
     "metadata": {},
     "output_type": "display_data"
    },
    {
     "name": "stdout",
     "output_type": "stream",
     "text": [
      "What is in front of the Notre Dame Main Building?\n"
     ]
    },
    {
     "data": {
      "text/markdown": [
       "**a copper statue of Christ**"
      ],
      "text/plain": [
       "<IPython.core.display.Markdown object>"
      ]
     },
     "metadata": {},
     "output_type": "display_data"
    },
    {
     "name": "stdout",
     "output_type": "stream",
     "text": [
      "The Basilica of the Sacred heart at Notre Dame is beside to which structure?\n"
     ]
    },
    {
     "data": {
      "text/markdown": [
       "**the Main Building**"
      ],
      "text/plain": [
       "<IPython.core.display.Markdown object>"
      ]
     },
     "metadata": {},
     "output_type": "display_data"
    },
    {
     "name": "stdout",
     "output_type": "stream",
     "text": [
      "What is the Grotto at Notre Dame?\n"
     ]
    },
    {
     "data": {
      "text/markdown": [
       "**a Marian place of prayer and reflection**"
      ],
      "text/plain": [
       "<IPython.core.display.Markdown object>"
      ]
     },
     "metadata": {},
     "output_type": "display_data"
    },
    {
     "name": "stdout",
     "output_type": "stream",
     "text": [
      "What sits on top of the Main Building at Notre Dame?\n"
     ]
    },
    {
     "data": {
      "text/markdown": [
       "**a golden statue of the Virgin Mary**"
      ],
      "text/plain": [
       "<IPython.core.display.Markdown object>"
      ]
     },
     "metadata": {},
     "output_type": "display_data"
    },
    {
     "data": {
      "text/markdown": [
       "**Important:**"
      ],
      "text/plain": [
       "<IPython.core.display.Markdown object>"
      ]
     },
     "metadata": {},
     "output_type": "display_data"
    },
    {
     "name": "stdout",
     "output_type": "stream",
     "text": [
      "Atop the Main Building's gold dome is a golden statue of the Virgin Mary.\n",
      "Immediately in front of the Main Building and facing it, is a copper statue of Christ with arms upraised with the legend \"Venite Ad Me Omnes\".\n",
      "Next to the Main Building is the Basilica of the Sacred Heart.\n",
      "Immediately behind the basilica is the Grotto, a Marian place of prayer and reflection.\n",
      "It is a replica of the grotto at Lourdes, France where the Virgin Mary reputedly appeared to Saint Bernadette Soubirous in 1858.\n"
     ]
    },
    {
     "data": {
      "text/markdown": [
       "**Unimportant:**"
      ],
      "text/plain": [
       "<IPython.core.display.Markdown object>"
      ]
     },
     "metadata": {},
     "output_type": "display_data"
    },
    {
     "name": "stdout",
     "output_type": "stream",
     "text": [
      "Architecturally, the school has a Catholic character.\n",
      "At the end of the main drive (and in a direct line that connects through 3 statues and the Gold Dome), is a simple, modern stone statue of Mary.\n"
     ]
    }
   ],
   "source": [
    "titleId = 0\n",
    "textId = 0\n",
    "\n",
    "important, unimportant = label_sentences(titleId, paragraphId)\n",
    "\n",
    "boldAnswers(titleId, textId)\n",
    "showQuestions(titleId, textId)\n",
    "\n",
    "printBold('Important:')\n",
    "for sent in important:\n",
    "    print(sent)\n",
    "\n",
    "printBold('Unimportant:')\n",
    "for sent in unimportant:\n",
    "    print(sent)\n"
   ]
  },
  {
   "cell_type": "code",
   "execution_count": null,
   "metadata": {},
   "outputs": [],
   "source": []
  }
 ],
 "metadata": {
  "kernelspec": {
   "display_name": "Python 3",
   "language": "python",
   "name": "python3"
  },
  "language_info": {
   "codemirror_mode": {
    "name": "ipython",
    "version": 3
   },
   "file_extension": ".py",
   "mimetype": "text/x-python",
   "name": "python",
   "nbconvert_exporter": "python",
   "pygments_lexer": "ipython3",
   "version": "3.7.2"
  }
 },
 "nbformat": 4,
 "nbformat_minor": 4
}
