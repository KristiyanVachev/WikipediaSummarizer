{
 "cells": [
  {
   "cell_type": "markdown",
   "metadata": {},
   "source": [
    "# Imports"
   ]
  },
  {
   "cell_type": "code",
   "execution_count": 1,
   "metadata": {},
   "outputs": [],
   "source": [
    "import pandas as pd\n",
    "import os"
   ]
  },
  {
   "cell_type": "code",
   "execution_count": 2,
   "metadata": {},
   "outputs": [],
   "source": [
    "import spacy\n",
    "nlp = spacy.load('en_core_web_sm')"
   ]
  },
  {
   "cell_type": "code",
   "execution_count": 3,
   "metadata": {},
   "outputs": [],
   "source": [
    "from IPython.display import Markdown, display, clear_output\n",
    "\n",
    "def printBold(string):\n",
    "    display(Markdown('**' + string + '**'))"
   ]
  },
  {
   "cell_type": "markdown",
   "metadata": {},
   "source": [
    "# Printing data"
   ]
  },
  {
   "cell_type": "code",
   "execution_count": 4,
   "metadata": {},
   "outputs": [],
   "source": [
    "def boldAnswers(titleId, paragraphId):\n",
    "\n",
    "    title = df['data'][titleId]['title']\n",
    "    paragraph = df['data'][titleId]['paragraphs'][paragraphId]['context']\n",
    "    \n",
    "    # Collect the start index and end index of each answer, and then sort it\n",
    "    answerRangeTuple = []\n",
    "        \n",
    "    for questionId in range(len( df['data'][titleId]['paragraphs'][paragraphId]['qas'])):\n",
    "        answerStart = df['data'][titleId]['paragraphs'][paragraphId]['qas'][questionId]['answers'][0]['answer_start']\n",
    "        answer = df['data'][titleId]['paragraphs'][paragraphId]['qas'][questionId]['answers'][0]['text']\n",
    "        \n",
    "        answerRangeTuple.append((answerStart, answerStart + len(answer)))\n",
    "        \n",
    "    answerRangeTuple.sort(key=lambda x: x[0], reverse=False)\n",
    "\n",
    "    # Add the indices to be split by\n",
    "    indices = [0] \n",
    "    \n",
    "    for a in answerRangeTuple:\n",
    "        indices.append(a[0])\n",
    "        indices.append(a[1])\n",
    "            \n",
    "    # Split text by answers\n",
    "    parts = [paragraph[i:j] for i,j in zip(indices, indices[1:]+[None])]\n",
    "    \n",
    "    # Append bold markdown symbols ('**') around each answer\n",
    "    text = \"\"\n",
    "    \n",
    "    for i in range(len(parts)):\n",
    "        if i % 2 == 0:\n",
    "            text += parts[i]\n",
    "        else:\n",
    "            text += ' **' + parts[i] + '** '\n",
    "\n",
    "    # Print\n",
    "    printBold(title)\n",
    "    print()\n",
    "    display(Markdown(text))"
   ]
  },
  {
   "cell_type": "code",
   "execution_count": 5,
   "metadata": {},
   "outputs": [],
   "source": [
    "def showQuestions(titleId, paragraphId):\n",
    "\n",
    "    title = df['data'][titleId]['title']\n",
    "    paragraph = df['data'][titleId]['paragraphs'][paragraphId]['context']\n",
    "\n",
    "    printBold('Questions')\n",
    "\n",
    "    for questionId in range(len(df['data'][titleId]['paragraphs'][paragraphId]['qas'])):\n",
    "        question = df['data'][titleId]['paragraphs'][paragraphId]['qas'][questionId]['question']\n",
    "        answer = df['data'][titleId]['paragraphs'][paragraphId]['qas'][questionId]['answers'][0]['text']\n",
    "        \n",
    "        print(question)\n",
    "        printBold(answer)"
   ]
  },
  {
   "cell_type": "markdown",
   "metadata": {},
   "source": [
    "# Loading data"
   ]
  },
  {
   "cell_type": "code",
   "execution_count": 6,
   "metadata": {},
   "outputs": [],
   "source": [
    "df = pd.read_json('../data/squad-v1/train-v1.1.json', orient='column')"
   ]
  },
  {
   "cell_type": "code",
   "execution_count": 7,
   "metadata": {},
   "outputs": [],
   "source": [
    "titleId = 0\n",
    "paragraphId = 0\n",
    "\n",
    "title = df['data'][titleId]['title']\n",
    "paragraph = df['data'][titleId]['paragraphs'][paragraphId]['context']\n",
    "qas = df['data'][titleId]['paragraphs'][paragraphId]['qas']"
   ]
  },
  {
   "cell_type": "code",
   "execution_count": 8,
   "metadata": {},
   "outputs": [],
   "source": [
    "doc = nlp(paragraph)"
   ]
  },
  {
   "cell_type": "code",
   "execution_count": 9,
   "metadata": {},
   "outputs": [
    {
     "name": "stdout",
     "output_type": "stream",
     "text": [
      "Architecturally, the school has a Catholic character.\n",
      "Atop the Main Building's gold dome is a golden statue of the Virgin Mary.\n",
      "Immediately in front of the Main Building and facing it, is a copper statue of Christ with arms upraised with the legend \"Venite Ad Me Omnes\".\n",
      "Next to the Main Building is the Basilica of the Sacred Heart.\n",
      "Immediately behind the basilica is the Grotto, a Marian place of prayer and reflection.\n",
      "It is a replica of the grotto at Lourdes, France where the Virgin Mary reputedly appeared to Saint Bernadette Soubirous in 1858.\n",
      "At the end of the main drive (and in a direct line that connects through 3 statues and the Gold Dome), is a simple, modern stone statue of Mary.\n"
     ]
    }
   ],
   "source": [
    "for sent in doc.sents:\n",
    "    print(sent)"
   ]
  },
  {
   "cell_type": "code",
   "execution_count": 10,
   "metadata": {},
   "outputs": [
    {
     "name": "stdout",
     "output_type": "stream",
     "text": [
      "515\n",
      "188\n",
      "279\n",
      "381\n",
      "92\n"
     ]
    }
   ],
   "source": [
    "for qa in qas:\n",
    "    print(qa['answers'][0]['answer_start'])"
   ]
  },
  {
   "cell_type": "code",
   "execution_count": 11,
   "metadata": {},
   "outputs": [
    {
     "name": "stdout",
     "output_type": "stream",
     "text": [
      "0\n",
      "54\n",
      "128\n",
      "271\n",
      "334\n",
      "422\n",
      "551\n"
     ]
    }
   ],
   "source": [
    "for sent in doc.sents:\n",
    "    print(sent[0].idx)"
   ]
  },
  {
   "cell_type": "markdown",
   "metadata": {},
   "source": [
    "# Functions\n"
   ]
  },
  {
   "cell_type": "code",
   "execution_count": 12,
   "metadata": {},
   "outputs": [],
   "source": [
    "\n",
    "def get_answer_starts(titleId, paragraphId):\n",
    "    qas = df['data'][titleId]['paragraphs'][paragraphId]['qas']\n",
    "    \n",
    "    answer_starts = []\n",
    "    \n",
    "    for qa in qas:\n",
    "        answer_starts.append(qa['answers'][0]['answer_start'])\n",
    "        \n",
    "    return answer_starts\n",
    "    "
   ]
  },
  {
   "cell_type": "code",
   "execution_count": 13,
   "metadata": {},
   "outputs": [],
   "source": [
    "answer_starts = get_answer_starts(0,0)"
   ]
  },
  {
   "cell_type": "code",
   "execution_count": 14,
   "metadata": {},
   "outputs": [],
   "source": [
    "def label_sentences(titleId, paragraphId):\n",
    "    title = df['data'][titleId]['title']\n",
    "    paragraph = df['data'][titleId]['paragraphs'][paragraphId]['context']\n",
    "    \n",
    "    answer_starts = get_answer_starts(titleId, paragraphId)\n",
    "    \n",
    "    important = []\n",
    "    unimportant = []\n",
    "    \n",
    "    doc = nlp(paragraph)\n",
    "    \n",
    "    for sent in doc.sents:\n",
    "        sentStart = sent[0].idx\n",
    "        sentEnd = doc[sent.end - 1].idx\n",
    "        found = False\n",
    "        \n",
    "        for answer_start in answer_starts:\n",
    "            if answer_start >= sentStart and answer_start < sentEnd:\n",
    "                important.append(sent)\n",
    "                found = True\n",
    "                break\n",
    "        \n",
    "        if not found:\n",
    "            unimportant.append(sent)\n",
    "                \n",
    "    return important, unimportant"
   ]
  },
  {
   "cell_type": "markdown",
   "metadata": {},
   "source": [
    "# Testing"
   ]
  },
  {
   "cell_type": "code",
   "execution_count": 15,
   "metadata": {},
   "outputs": [],
   "source": [
    "important, unimportant = label_sentences(42, 1)"
   ]
  },
  {
   "cell_type": "code",
   "execution_count": 16,
   "metadata": {},
   "outputs": [
    {
     "data": {
      "text/plain": [
       "[Schwarzenegger began weight training at the age of 15.,\n",
       " He won the Mr. Universe title at age 20 and went on to win the Mr. Olympia contest seven times.,\n",
       " His breakthrough film was the sword-and-sorcery epic Conan the Barbarian in 1982, which was a box-office hit and resulted in a sequel.,\n",
       " He was nicknamed the \"Austrian Oak\" in his bodybuilding days, \"Arnie\" during his acting career, and \"The Governator\" (a portmanteau of \"Governor\" and \"The Terminator\", one of his best-known movie roles).]"
      ]
     },
     "execution_count": 16,
     "metadata": {},
     "output_type": "execute_result"
    }
   ],
   "source": [
    "important"
   ]
  },
  {
   "cell_type": "code",
   "execution_count": 17,
   "metadata": {},
   "outputs": [
    {
     "data": {
      "text/plain": [
       "[Schwarzenegger has remained a prominent presence in bodybuilding and has written many books and articles on the sport.,\n",
       " He is widely considered to be among the greatest bodybuilders of all times as well as its biggest icon.,\n",
       " Schwarzenegger gained worldwide fame as a Hollywood action film icon.,\n",
       " In 1984, he appeared in James Cameron's science-fiction thriller film The Terminator, which was a massive critical and box-office success.,\n",
       " Schwarzenegger subsequently reprised the Terminator character in the franchise's later installments in 1991, 2003, and 2015.,\n",
       " He appeared in a number of successful films, such as Commando (1985), The Running Man (1987), Predator (1987), Twins (1988), Total Recall (1990), Kindergarten Cop (1990) and True Lies (1994).]"
      ]
     },
     "execution_count": 17,
     "metadata": {},
     "output_type": "execute_result"
    }
   ],
   "source": [
    "unimportant"
   ]
  },
  {
   "cell_type": "code",
   "execution_count": 18,
   "metadata": {},
   "outputs": [
    {
     "data": {
      "text/markdown": [
       "**University_of_Notre_Dame**"
      ],
      "text/plain": [
       "<IPython.core.display.Markdown object>"
      ]
     },
     "metadata": {},
     "output_type": "display_data"
    },
    {
     "name": "stdout",
     "output_type": "stream",
     "text": [
      "\n"
     ]
    },
    {
     "data": {
      "text/markdown": [
       "Architecturally, the school has a Catholic character. Atop the Main Building's gold dome is  **a golden statue of the Virgin Mary** . Immediately in front of the Main Building and facing it, is  **a copper statue of Christ**  with arms upraised with the legend \"Venite Ad Me Omnes\". Next to  **the Main Building**  is the Basilica of the Sacred Heart. Immediately behind the basilica is the Grotto,  **a Marian place of prayer and reflection** . It is a replica of the grotto at Lourdes, France where the Virgin Mary reputedly appeared to  **Saint Bernadette Soubirous**  in 1858. At the end of the main drive (and in a direct line that connects through 3 statues and the Gold Dome), is a simple, modern stone statue of Mary."
      ],
      "text/plain": [
       "<IPython.core.display.Markdown object>"
      ]
     },
     "metadata": {},
     "output_type": "display_data"
    },
    {
     "data": {
      "text/markdown": [
       "**Questions**"
      ],
      "text/plain": [
       "<IPython.core.display.Markdown object>"
      ]
     },
     "metadata": {},
     "output_type": "display_data"
    },
    {
     "name": "stdout",
     "output_type": "stream",
     "text": [
      "To whom did the Virgin Mary allegedly appear in 1858 in Lourdes France?\n"
     ]
    },
    {
     "data": {
      "text/markdown": [
       "**Saint Bernadette Soubirous**"
      ],
      "text/plain": [
       "<IPython.core.display.Markdown object>"
      ]
     },
     "metadata": {},
     "output_type": "display_data"
    },
    {
     "name": "stdout",
     "output_type": "stream",
     "text": [
      "What is in front of the Notre Dame Main Building?\n"
     ]
    },
    {
     "data": {
      "text/markdown": [
       "**a copper statue of Christ**"
      ],
      "text/plain": [
       "<IPython.core.display.Markdown object>"
      ]
     },
     "metadata": {},
     "output_type": "display_data"
    },
    {
     "name": "stdout",
     "output_type": "stream",
     "text": [
      "The Basilica of the Sacred heart at Notre Dame is beside to which structure?\n"
     ]
    },
    {
     "data": {
      "text/markdown": [
       "**the Main Building**"
      ],
      "text/plain": [
       "<IPython.core.display.Markdown object>"
      ]
     },
     "metadata": {},
     "output_type": "display_data"
    },
    {
     "name": "stdout",
     "output_type": "stream",
     "text": [
      "What is the Grotto at Notre Dame?\n"
     ]
    },
    {
     "data": {
      "text/markdown": [
       "**a Marian place of prayer and reflection**"
      ],
      "text/plain": [
       "<IPython.core.display.Markdown object>"
      ]
     },
     "metadata": {},
     "output_type": "display_data"
    },
    {
     "name": "stdout",
     "output_type": "stream",
     "text": [
      "What sits on top of the Main Building at Notre Dame?\n"
     ]
    },
    {
     "data": {
      "text/markdown": [
       "**a golden statue of the Virgin Mary**"
      ],
      "text/plain": [
       "<IPython.core.display.Markdown object>"
      ]
     },
     "metadata": {},
     "output_type": "display_data"
    },
    {
     "data": {
      "text/markdown": [
       "**Important:**"
      ],
      "text/plain": [
       "<IPython.core.display.Markdown object>"
      ]
     },
     "metadata": {},
     "output_type": "display_data"
    },
    {
     "name": "stdout",
     "output_type": "stream",
     "text": [
      "Atop the Main Building's gold dome is a golden statue of the Virgin Mary.\n",
      "Immediately in front of the Main Building and facing it, is a copper statue of Christ with arms upraised with the legend \"Venite Ad Me Omnes\".\n",
      "Next to the Main Building is the Basilica of the Sacred Heart.\n",
      "Immediately behind the basilica is the Grotto, a Marian place of prayer and reflection.\n",
      "It is a replica of the grotto at Lourdes, France where the Virgin Mary reputedly appeared to Saint Bernadette Soubirous in 1858.\n"
     ]
    },
    {
     "data": {
      "text/markdown": [
       "**Unimportant:**"
      ],
      "text/plain": [
       "<IPython.core.display.Markdown object>"
      ]
     },
     "metadata": {},
     "output_type": "display_data"
    },
    {
     "name": "stdout",
     "output_type": "stream",
     "text": [
      "Architecturally, the school has a Catholic character.\n",
      "At the end of the main drive (and in a direct line that connects through 3 statues and the Gold Dome), is a simple, modern stone statue of Mary.\n"
     ]
    }
   ],
   "source": [
    "titleId = 0\n",
    "textId = 0\n",
    "\n",
    "important, unimportant = label_sentences(titleId, paragraphId)\n",
    "\n",
    "boldAnswers(titleId, textId)\n",
    "showQuestions(titleId, textId)\n",
    "\n",
    "printBold('Important:')\n",
    "for sent in important:\n",
    "    print(sent)\n",
    "\n",
    "printBold('Unimportant:')\n",
    "for sent in unimportant:\n",
    "    print(sent)\n"
   ]
  },
  {
   "cell_type": "markdown",
   "metadata": {},
   "source": [
    "# Create dataset"
   ]
  },
  {
   "cell_type": "markdown",
   "metadata": {},
   "source": [
    "## Generate sentences"
   ]
  },
  {
   "cell_type": "code",
   "execution_count": 84,
   "metadata": {},
   "outputs": [],
   "source": [
    "sentDf = pd.DataFrame(columns=['sent', 'isImportant', 'titleId', 'paragraphId'])"
   ]
  },
  {
   "cell_type": "code",
   "execution_count": 85,
   "metadata": {},
   "outputs": [],
   "source": [
    "new_row = {'sent': 'Koala', 'isImportant':True, 'titleId': 0, 'paragraphId': 0}"
   ]
  },
  {
   "cell_type": "code",
   "execution_count": 86,
   "metadata": {},
   "outputs": [],
   "source": [
    "sentDf = sentDf.append(new_row, ignore_index=True)"
   ]
  },
  {
   "cell_type": "code",
   "execution_count": 87,
   "metadata": {},
   "outputs": [
    {
     "data": {
      "text/html": [
       "<div>\n",
       "<style scoped>\n",
       "    .dataframe tbody tr th:only-of-type {\n",
       "        vertical-align: middle;\n",
       "    }\n",
       "\n",
       "    .dataframe tbody tr th {\n",
       "        vertical-align: top;\n",
       "    }\n",
       "\n",
       "    .dataframe thead th {\n",
       "        text-align: right;\n",
       "    }\n",
       "</style>\n",
       "<table border=\"1\" class=\"dataframe\">\n",
       "  <thead>\n",
       "    <tr style=\"text-align: right;\">\n",
       "      <th></th>\n",
       "      <th>sent</th>\n",
       "      <th>isImportant</th>\n",
       "      <th>titleId</th>\n",
       "      <th>paragraphId</th>\n",
       "    </tr>\n",
       "  </thead>\n",
       "  <tbody>\n",
       "    <tr>\n",
       "      <th>0</th>\n",
       "      <td>Koala</td>\n",
       "      <td>True</td>\n",
       "      <td>0</td>\n",
       "      <td>0</td>\n",
       "    </tr>\n",
       "  </tbody>\n",
       "</table>\n",
       "</div>"
      ],
      "text/plain": [
       "    sent isImportant titleId paragraphId\n",
       "0  Koala        True       0           0"
      ]
     },
     "execution_count": 87,
     "metadata": {},
     "output_type": "execute_result"
    }
   ],
   "source": [
    "sentDf"
   ]
  },
  {
   "cell_type": "code",
   "execution_count": 88,
   "metadata": {},
   "outputs": [],
   "source": [
    "doc = nlp('The koala is an arboreal herbivorous marsupial native to Australia. It is the only extant representative of the family Phascolarctidae and its closest living relatives are the wombats, which comprise the family Vombatidae')"
   ]
  },
  {
   "cell_type": "code",
   "execution_count": 89,
   "metadata": {},
   "outputs": [
    {
     "name": "stdout",
     "output_type": "stream",
     "text": [
      "0\n",
      "11\n"
     ]
    }
   ],
   "source": [
    "for sent in doc.sents:\n",
    "    print(sent.start)"
   ]
  },
  {
   "cell_type": "code",
   "execution_count": null,
   "metadata": {},
   "outputs": [],
   "source": []
  },
  {
   "cell_type": "code",
   "execution_count": null,
   "metadata": {},
   "outputs": [],
   "source": []
  },
  {
   "cell_type": "code",
   "execution_count": 90,
   "metadata": {},
   "outputs": [],
   "source": [
    "sentDf = pd.DataFrame(columns=['sent', 'isImportant', 'titleId', 'paragraphId', 'start', 'end'])"
   ]
  },
  {
   "cell_type": "code",
   "execution_count": 91,
   "metadata": {},
   "outputs": [],
   "source": [
    "titles = 10\n",
    "\n",
    "important = []\n",
    "unimportant = []\n",
    "\n",
    "for titleId in range(titles):\n",
    "    paragraphCount = len(df['data'][titleId]['paragraphs'])\n",
    "    \n",
    "    for paragraphId in range(paragraphCount):\n",
    "        currImportant, currUnimportant = label_sentences(titleId, paragraphId)\n",
    "        \n",
    "        for sent in currImportant:\n",
    "            new_row = {'sent': sent.text, 'isImportant':True, 'titleId': titleId, 'paragraphId': paragraphId, 'start': sent.start, 'end': sent.end}\n",
    "            sentDf = sentDf.append(new_row, ignore_index=True)\n",
    "            \n",
    "        for sent in currUnimportant:\n",
    "            new_row = {'sent': sent.text, 'isImportant':False, 'titleId': titleId, 'paragraphId': paragraphId,'start': sent.start, 'end': sent.end}\n",
    "            sentDf = sentDf.append(new_row, ignore_index=True)\n",
    "                       "
   ]
  },
  {
   "cell_type": "code",
   "execution_count": 92,
   "metadata": {},
   "outputs": [
    {
     "data": {
      "text/html": [
       "<div>\n",
       "<style scoped>\n",
       "    .dataframe tbody tr th:only-of-type {\n",
       "        vertical-align: middle;\n",
       "    }\n",
       "\n",
       "    .dataframe tbody tr th {\n",
       "        vertical-align: top;\n",
       "    }\n",
       "\n",
       "    .dataframe thead th {\n",
       "        text-align: right;\n",
       "    }\n",
       "</style>\n",
       "<table border=\"1\" class=\"dataframe\">\n",
       "  <thead>\n",
       "    <tr style=\"text-align: right;\">\n",
       "      <th></th>\n",
       "      <th>sent</th>\n",
       "      <th>isImportant</th>\n",
       "      <th>titleId</th>\n",
       "      <th>paragraphId</th>\n",
       "      <th>start</th>\n",
       "      <th>end</th>\n",
       "    </tr>\n",
       "  </thead>\n",
       "  <tbody>\n",
       "    <tr>\n",
       "      <th>0</th>\n",
       "      <td>Atop the Main Building's gold dome is a golden...</td>\n",
       "      <td>True</td>\n",
       "      <td>0</td>\n",
       "      <td>0</td>\n",
       "      <td>9</td>\n",
       "      <td>25</td>\n",
       "    </tr>\n",
       "    <tr>\n",
       "      <th>1</th>\n",
       "      <td>Immediately in front of the Main Building and ...</td>\n",
       "      <td>True</td>\n",
       "      <td>0</td>\n",
       "      <td>0</td>\n",
       "      <td>25</td>\n",
       "      <td>55</td>\n",
       "    </tr>\n",
       "    <tr>\n",
       "      <th>2</th>\n",
       "      <td>Next to the Main Building is the Basilica of t...</td>\n",
       "      <td>True</td>\n",
       "      <td>0</td>\n",
       "      <td>0</td>\n",
       "      <td>55</td>\n",
       "      <td>68</td>\n",
       "    </tr>\n",
       "    <tr>\n",
       "      <th>3</th>\n",
       "      <td>Immediately behind the basilica is the Grotto,...</td>\n",
       "      <td>True</td>\n",
       "      <td>0</td>\n",
       "      <td>0</td>\n",
       "      <td>68</td>\n",
       "      <td>84</td>\n",
       "    </tr>\n",
       "    <tr>\n",
       "      <th>4</th>\n",
       "      <td>It is a replica of the grotto at Lourdes, Fran...</td>\n",
       "      <td>True</td>\n",
       "      <td>0</td>\n",
       "      <td>0</td>\n",
       "      <td>84</td>\n",
       "      <td>108</td>\n",
       "    </tr>\n",
       "  </tbody>\n",
       "</table>\n",
       "</div>"
      ],
      "text/plain": [
       "                                                sent isImportant titleId  \\\n",
       "0  Atop the Main Building's gold dome is a golden...        True       0   \n",
       "1  Immediately in front of the Main Building and ...        True       0   \n",
       "2  Next to the Main Building is the Basilica of t...        True       0   \n",
       "3  Immediately behind the basilica is the Grotto,...        True       0   \n",
       "4  It is a replica of the grotto at Lourdes, Fran...        True       0   \n",
       "\n",
       "  paragraphId start  end  \n",
       "0           0     9   25  \n",
       "1           0    25   55  \n",
       "2           0    55   68  \n",
       "3           0    68   84  \n",
       "4           0    84  108  "
      ]
     },
     "execution_count": 92,
     "metadata": {},
     "output_type": "execute_result"
    }
   ],
   "source": [
    "sentDf.head()"
   ]
  },
  {
   "cell_type": "code",
   "execution_count": 93,
   "metadata": {},
   "outputs": [
    {
     "data": {
      "text/plain": [
       "True     1657\n",
       "False    1084\n",
       "Name: isImportant, dtype: int64"
      ]
     },
     "execution_count": 93,
     "metadata": {},
     "output_type": "execute_result"
    }
   ],
   "source": [
    "sentDf['isImportant'].value_counts()"
   ]
  },
  {
   "cell_type": "code",
   "execution_count": 94,
   "metadata": {},
   "outputs": [],
   "source": [
    "# print(len(important), len(unimportant))"
   ]
  },
  {
   "cell_type": "markdown",
   "metadata": {},
   "source": [
    "## Pickle"
   ]
  },
  {
   "cell_type": "code",
   "execution_count": 95,
   "metadata": {},
   "outputs": [],
   "source": [
    "import _pickle as cPickle\n",
    "from pathlib import Path\n",
    "\n",
    "def dumpPickle(fileName, content):\n",
    "    pickleFile = open(fileName, 'wb')\n",
    "    cPickle.dump(content, pickleFile, -1)\n",
    "    pickleFile.close()\n",
    "\n",
    "def loadPickle(fileName):    \n",
    "    file = open(fileName, 'rb')\n",
    "    content = cPickle.load(file)\n",
    "    file.close()\n",
    "    \n",
    "    return content\n",
    "    \n",
    "def pickleExists(fileName):\n",
    "    file = Path(fileName)\n",
    "    \n",
    "    if file.is_file():\n",
    "        return True\n",
    "    \n",
    "    return False"
   ]
  },
  {
   "cell_type": "markdown",
   "metadata": {},
   "source": [
    "## Create df"
   ]
  },
  {
   "cell_type": "markdown",
   "metadata": {},
   "source": [
    "[(lambda x: x.text)(im) for im in important][:10]"
   ]
  },
  {
   "cell_type": "markdown",
   "metadata": {},
   "source": [
    "importantDf = pd.DataFrame(data=[(lambda x: x.text)(im) for im in important], columns=['Sentence'])"
   ]
  },
  {
   "cell_type": "markdown",
   "metadata": {},
   "source": [
    "importantDf.head()"
   ]
  },
  {
   "cell_type": "code",
   "execution_count": 25,
   "metadata": {},
   "outputs": [],
   "source": [
    "# dumpPickle('../data/important-100.pkl', importantDf)"
   ]
  },
  {
   "cell_type": "code",
   "execution_count": 26,
   "metadata": {},
   "outputs": [],
   "source": [
    "# unimportantDf = pd.DataFrame(data=[(lambda x: x.text)(un) for un in unimportant], columns=['Sentence'])"
   ]
  },
  {
   "cell_type": "code",
   "execution_count": 27,
   "metadata": {},
   "outputs": [],
   "source": [
    "# dumpPickle('../data/unimportant-100.pkl', unimportantDf)"
   ]
  },
  {
   "cell_type": "code",
   "execution_count": 96,
   "metadata": {},
   "outputs": [],
   "source": [
    "dumpPickle('../data/sentDf-start-end-10.pkl', sentDf)"
   ]
  },
  {
   "cell_type": "markdown",
   "metadata": {},
   "source": [
    "# Features"
   ]
  },
  {
   "cell_type": "markdown",
   "metadata": {},
   "source": [
    "## Named entities"
   ]
  },
  {
   "cell_type": "code",
   "execution_count": 97,
   "metadata": {},
   "outputs": [],
   "source": [
    "totals = []\n",
    "\n",
    "for i in range(len(sentDf)):\n",
    "    totals.append(len(nlp(sentDf.iloc[i]['sent']).ents))"
   ]
  },
  {
   "cell_type": "code",
   "execution_count": 98,
   "metadata": {},
   "outputs": [],
   "source": [
    "newDf = sentDf"
   ]
  },
  {
   "cell_type": "code",
   "execution_count": 99,
   "metadata": {},
   "outputs": [
    {
     "data": {
      "text/plain": [
       "2741"
      ]
     },
     "execution_count": 99,
     "metadata": {},
     "output_type": "execute_result"
    }
   ],
   "source": [
    "len(totals)"
   ]
  },
  {
   "cell_type": "code",
   "execution_count": 100,
   "metadata": {},
   "outputs": [],
   "source": [
    "newDf['ne_count'] = totals"
   ]
  },
  {
   "cell_type": "code",
   "execution_count": 173,
   "metadata": {},
   "outputs": [
    {
     "data": {
      "text/html": [
       "<div>\n",
       "<style scoped>\n",
       "    .dataframe tbody tr th:only-of-type {\n",
       "        vertical-align: middle;\n",
       "    }\n",
       "\n",
       "    .dataframe tbody tr th {\n",
       "        vertical-align: top;\n",
       "    }\n",
       "\n",
       "    .dataframe thead th {\n",
       "        text-align: right;\n",
       "    }\n",
       "</style>\n",
       "<table border=\"1\" class=\"dataframe\">\n",
       "  <thead>\n",
       "    <tr style=\"text-align: right;\">\n",
       "      <th></th>\n",
       "      <th>sent</th>\n",
       "      <th>isImportant</th>\n",
       "      <th>titleId</th>\n",
       "      <th>paragraphId</th>\n",
       "      <th>start</th>\n",
       "      <th>end</th>\n",
       "      <th>ne_count</th>\n",
       "    </tr>\n",
       "  </thead>\n",
       "  <tbody>\n",
       "    <tr>\n",
       "      <th>0</th>\n",
       "      <td>Atop the Main Building's gold dome is a golden...</td>\n",
       "      <td>True</td>\n",
       "      <td>0</td>\n",
       "      <td>0</td>\n",
       "      <td>9</td>\n",
       "      <td>25</td>\n",
       "      <td>1</td>\n",
       "    </tr>\n",
       "    <tr>\n",
       "      <th>1</th>\n",
       "      <td>Immediately in front of the Main Building and ...</td>\n",
       "      <td>True</td>\n",
       "      <td>0</td>\n",
       "      <td>0</td>\n",
       "      <td>25</td>\n",
       "      <td>55</td>\n",
       "      <td>3</td>\n",
       "    </tr>\n",
       "    <tr>\n",
       "      <th>2</th>\n",
       "      <td>Next to the Main Building is the Basilica of t...</td>\n",
       "      <td>True</td>\n",
       "      <td>0</td>\n",
       "      <td>0</td>\n",
       "      <td>55</td>\n",
       "      <td>68</td>\n",
       "      <td>3</td>\n",
       "    </tr>\n",
       "    <tr>\n",
       "      <th>3</th>\n",
       "      <td>Immediately behind the basilica is the Grotto,...</td>\n",
       "      <td>True</td>\n",
       "      <td>0</td>\n",
       "      <td>0</td>\n",
       "      <td>68</td>\n",
       "      <td>84</td>\n",
       "      <td>2</td>\n",
       "    </tr>\n",
       "    <tr>\n",
       "      <th>4</th>\n",
       "      <td>It is a replica of the grotto at Lourdes, Fran...</td>\n",
       "      <td>True</td>\n",
       "      <td>0</td>\n",
       "      <td>0</td>\n",
       "      <td>84</td>\n",
       "      <td>108</td>\n",
       "      <td>5</td>\n",
       "    </tr>\n",
       "    <tr>\n",
       "      <th>...</th>\n",
       "      <td>...</td>\n",
       "      <td>...</td>\n",
       "      <td>...</td>\n",
       "      <td>...</td>\n",
       "      <td>...</td>\n",
       "      <td>...</td>\n",
       "      <td>...</td>\n",
       "    </tr>\n",
       "    <tr>\n",
       "      <th>2736</th>\n",
       "      <td>This prompted criticism of the board online, e...</td>\n",
       "      <td>True</td>\n",
       "      <td>9</td>\n",
       "      <td>41</td>\n",
       "      <td>37</td>\n",
       "      <td>49</td>\n",
       "      <td>0</td>\n",
       "    </tr>\n",
       "    <tr>\n",
       "      <th>2737</th>\n",
       "      <td>They also muted all profanity.</td>\n",
       "      <td>False</td>\n",
       "      <td>9</td>\n",
       "      <td>41</td>\n",
       "      <td>31</td>\n",
       "      <td>37</td>\n",
       "      <td>0</td>\n",
       "    </tr>\n",
       "    <tr>\n",
       "      <th>2738</th>\n",
       "      <td>A sequel to Spectre will begin development in ...</td>\n",
       "      <td>True</td>\n",
       "      <td>9</td>\n",
       "      <td>42</td>\n",
       "      <td>0</td>\n",
       "      <td>11</td>\n",
       "      <td>2</td>\n",
       "    </tr>\n",
       "    <tr>\n",
       "      <th>2739</th>\n",
       "      <td>Christoph Waltz has signed on for two more fil...</td>\n",
       "      <td>True</td>\n",
       "      <td>9</td>\n",
       "      <td>42</td>\n",
       "      <td>26</td>\n",
       "      <td>53</td>\n",
       "      <td>4</td>\n",
       "    </tr>\n",
       "    <tr>\n",
       "      <th>2740</th>\n",
       "      <td>Sam Mendes has stated he will not return to di...</td>\n",
       "      <td>False</td>\n",
       "      <td>9</td>\n",
       "      <td>42</td>\n",
       "      <td>11</td>\n",
       "      <td>26</td>\n",
       "      <td>1</td>\n",
       "    </tr>\n",
       "  </tbody>\n",
       "</table>\n",
       "<p>2741 rows × 7 columns</p>\n",
       "</div>"
      ],
      "text/plain": [
       "                                                   sent isImportant titleId  \\\n",
       "0     Atop the Main Building's gold dome is a golden...        True       0   \n",
       "1     Immediately in front of the Main Building and ...        True       0   \n",
       "2     Next to the Main Building is the Basilica of t...        True       0   \n",
       "3     Immediately behind the basilica is the Grotto,...        True       0   \n",
       "4     It is a replica of the grotto at Lourdes, Fran...        True       0   \n",
       "...                                                 ...         ...     ...   \n",
       "2736  This prompted criticism of the board online, e...        True       9   \n",
       "2737                     They also muted all profanity.       False       9   \n",
       "2738  A sequel to Spectre will begin development in ...        True       9   \n",
       "2739  Christoph Waltz has signed on for two more fil...        True       9   \n",
       "2740  Sam Mendes has stated he will not return to di...       False       9   \n",
       "\n",
       "     paragraphId start  end  ne_count  \n",
       "0              0     9   25         1  \n",
       "1              0    25   55         3  \n",
       "2              0    55   68         3  \n",
       "3              0    68   84         2  \n",
       "4              0    84  108         5  \n",
       "...          ...   ...  ...       ...  \n",
       "2736          41    37   49         0  \n",
       "2737          41    31   37         0  \n",
       "2738          42     0   11         2  \n",
       "2739          42    26   53         4  \n",
       "2740          42    11   26         1  \n",
       "\n",
       "[2741 rows x 7 columns]"
      ]
     },
     "execution_count": 173,
     "metadata": {},
     "output_type": "execute_result"
    }
   ],
   "source": [
    "newDf"
   ]
  },
  {
   "cell_type": "code",
   "execution_count": 102,
   "metadata": {},
   "outputs": [],
   "source": [
    "# def getNeCount(sentences):\n",
    "#     count = 0\n",
    "    \n",
    "#     for sent in sentences:\n",
    "#         count += len(sent.ents)\n",
    "    \n",
    "#     return count"
   ]
  },
  {
   "cell_type": "code",
   "execution_count": 103,
   "metadata": {},
   "outputs": [],
   "source": [
    "# ne_avg_important = getNeCount(important)/len(important)\n",
    "# ne_avg_unimportant = getNeCount(unimportant)/len(unimportant)\n",
    "\n",
    "# print('Average count of named entities in important', ne_avg_important)\n",
    "# print('Average count of named entities in unimportant', ne_avg_unimportant)"
   ]
  },
  {
   "cell_type": "code",
   "execution_count": 104,
   "metadata": {},
   "outputs": [
    {
     "name": "stdout",
     "output_type": "stream",
     "text": [
      "Average count of named entities in important 3.5576342788171393\n",
      "Average count of named entities in unimportant 2.407749077490775\n"
     ]
    }
   ],
   "source": [
    "ne_avg_important = sum(newDf[newDf['isImportant']==True]['ne_count']) / len(newDf[newDf['isImportant']==True])\n",
    "ne_avg_unimportant = sum(newDf[newDf['isImportant']==False]['ne_count']) / len(newDf[newDf['isImportant']==False])\n",
    "\n",
    "print('Average count of named entities in important', ne_avg_important)\n",
    "print('Average count of named entities in unimportant', ne_avg_unimportant)"
   ]
  },
  {
   "cell_type": "markdown",
   "metadata": {},
   "source": [
    "## TF/IDF"
   ]
  },
  {
   "cell_type": "code",
   "execution_count": 105,
   "metadata": {},
   "outputs": [],
   "source": [
    "## load freq"
   ]
  },
  {
   "cell_type": "code",
   "execution_count": 106,
   "metadata": {},
   "outputs": [],
   "source": [
    "import math"
   ]
  },
  {
   "cell_type": "code",
   "execution_count": 107,
   "metadata": {},
   "outputs": [],
   "source": [
    "def get_frequencies(doc):\n",
    "    freqs = {}\n",
    "    \n",
    "    for token in doc:\n",
    "        if token.is_punct:\n",
    "            continue\n",
    "\n",
    "        word = token.text.lower()\n",
    "\n",
    "        if word in freqs:\n",
    "            freqs[word] += 1\n",
    "        else:\n",
    "            freqs[word] = 0\n",
    "\n",
    "    return freqs"
   ]
  },
  {
   "cell_type": "code",
   "execution_count": 157,
   "metadata": {},
   "outputs": [],
   "source": [
    "def compute_tf(doc, startToken, endToken, currFreq):\n",
    "    keywordWordCount = endToken - startToken + 1\n",
    "   \n",
    "    totalFreq = 0\n",
    "\n",
    "    for i in range(startToken, endToken):\n",
    "        word = doc[i].text.lower()\n",
    "\n",
    "        totalFreq += 0 if word not in currFreq else currFreq[word]\n",
    "\n",
    "    tf = (totalFreq / keywordWordCount) / len(currFreq)\n",
    "    \n",
    "    return tf"
   ]
  },
  {
   "cell_type": "code",
   "execution_count": 158,
   "metadata": {},
   "outputs": [],
   "source": [
    "def compute_idf(doc, startToken, endToken, wordFreq):\n",
    "    keywordWordCount = endToken - startToken + 1\n",
    "\n",
    "    totalFreq = 0\n",
    "\n",
    "    for i in range(startToken, endToken):  \n",
    "        word = doc[i].text.lower()\n",
    "        \n",
    "        totalFreq += 0 if word not in wordFreq else wordFreq[word]\n",
    "\n",
    "    # In case the word is not found, count is a being found only once. Avoiding division by zero.\n",
    "    currFreq = 1 if totalFreq / keywordWordCount == 0 else totalFreq / keywordWordCount\n",
    "    idf = math.log(len(wordFreq) / currFreq)\n",
    "\n",
    "    return idf"
   ]
  },
  {
   "cell_type": "code",
   "execution_count": 159,
   "metadata": {},
   "outputs": [],
   "source": [
    "def compute_tfidf(doc, startToken, endToken, currFreq, paragraphFreq):\n",
    "    \n",
    "    tf = compute_tf(doc, startToken, endToken, currFreq)\n",
    "\n",
    "    idfParagraph = compute_idf(doc, startToken, endToken, paragraphFreq)\n",
    "\n",
    "    # Results\n",
    "    return tf * idfParagraph        "
   ]
  },
  {
   "cell_type": "markdown",
   "metadata": {},
   "source": [
    "## Compute TF/IDF"
   ]
  },
  {
   "cell_type": "code",
   "execution_count": 160,
   "metadata": {},
   "outputs": [],
   "source": [
    "paragraphFreq = loadPickle('../data/idf/word-occurances-paragraph.pkl')"
   ]
  },
  {
   "cell_type": "code",
   "execution_count": 161,
   "metadata": {},
   "outputs": [],
   "source": [
    "titleId = 0\n",
    "paragraphId = 0\n",
    "\n",
    "paragraph = df['data'][titleId]['paragraphs'][paragraphId]['context']\n",
    "doc = nlp(paragraph)\n",
    "\n",
    "currFreq = get_frequencies(doc)"
   ]
  },
  {
   "cell_type": "code",
   "execution_count": 167,
   "metadata": {},
   "outputs": [
    {
     "data": {
      "text/plain": [
       "0.01580971297087969"
      ]
     },
     "execution_count": 167,
     "metadata": {},
     "output_type": "execute_result"
    }
   ],
   "source": [
    "compute_tfidf(doc, 1, 5, currFreq, paragraphFreq)"
   ]
  },
  {
   "cell_type": "markdown",
   "metadata": {},
   "source": [
    "## Compute for sentences"
   ]
  },
  {
   "cell_type": "code",
   "execution_count": 176,
   "metadata": {},
   "outputs": [],
   "source": [
    "tfidfs = []\n",
    "\n",
    "for i in range(len(sentDf)):\n",
    "    titleId = sentDf.iloc[i]['titleId']\n",
    "    paragraphId = sentDf.iloc[i]['paragraphId']\n",
    "    start = sentDf.iloc[i]['start']\n",
    "    end = sentDf.iloc[i]['end']\n",
    "    \n",
    "    paragraph = df['data'][titleId]['paragraphs'][paragraphId]['context']\n",
    "    doc = nlp(paragraph)\n",
    "\n",
    "    currFreq = get_frequencies(doc)\n",
    "    \n",
    "    tfidf = compute_tfidf(doc, start, end, currFreq, paragraphFreq)\n",
    "    \n",
    "    tfidfs.append(tfidf) "
   ]
  },
  {
   "cell_type": "code",
   "execution_count": 177,
   "metadata": {},
   "outputs": [],
   "source": [
    "newDf['tfidf'] = tfidfs"
   ]
  },
  {
   "cell_type": "code",
   "execution_count": 179,
   "metadata": {},
   "outputs": [
    {
     "data": {
      "text/html": [
       "<div>\n",
       "<style scoped>\n",
       "    .dataframe tbody tr th:only-of-type {\n",
       "        vertical-align: middle;\n",
       "    }\n",
       "\n",
       "    .dataframe tbody tr th {\n",
       "        vertical-align: top;\n",
       "    }\n",
       "\n",
       "    .dataframe thead th {\n",
       "        text-align: right;\n",
       "    }\n",
       "</style>\n",
       "<table border=\"1\" class=\"dataframe\">\n",
       "  <thead>\n",
       "    <tr style=\"text-align: right;\">\n",
       "      <th></th>\n",
       "      <th>sent</th>\n",
       "      <th>isImportant</th>\n",
       "      <th>titleId</th>\n",
       "      <th>paragraphId</th>\n",
       "      <th>start</th>\n",
       "      <th>end</th>\n",
       "      <th>ne_count</th>\n",
       "      <th>tfidf</th>\n",
       "    </tr>\n",
       "  </thead>\n",
       "  <tbody>\n",
       "    <tr>\n",
       "      <th>0</th>\n",
       "      <td>Atop the Main Building's gold dome is a golden...</td>\n",
       "      <td>True</td>\n",
       "      <td>0</td>\n",
       "      <td>0</td>\n",
       "      <td>9</td>\n",
       "      <td>25</td>\n",
       "      <td>1</td>\n",
       "      <td>0.127637</td>\n",
       "    </tr>\n",
       "    <tr>\n",
       "      <th>1</th>\n",
       "      <td>Immediately in front of the Main Building and ...</td>\n",
       "      <td>True</td>\n",
       "      <td>0</td>\n",
       "      <td>0</td>\n",
       "      <td>25</td>\n",
       "      <td>55</td>\n",
       "      <td>3</td>\n",
       "      <td>0.081224</td>\n",
       "    </tr>\n",
       "    <tr>\n",
       "      <th>2</th>\n",
       "      <td>Next to the Main Building is the Basilica of t...</td>\n",
       "      <td>True</td>\n",
       "      <td>0</td>\n",
       "      <td>0</td>\n",
       "      <td>55</td>\n",
       "      <td>68</td>\n",
       "      <td>3</td>\n",
       "      <td>0.144167</td>\n",
       "    </tr>\n",
       "    <tr>\n",
       "      <th>3</th>\n",
       "      <td>Immediately behind the basilica is the Grotto,...</td>\n",
       "      <td>True</td>\n",
       "      <td>0</td>\n",
       "      <td>0</td>\n",
       "      <td>68</td>\n",
       "      <td>84</td>\n",
       "      <td>2</td>\n",
       "      <td>0.104120</td>\n",
       "    </tr>\n",
       "    <tr>\n",
       "      <th>4</th>\n",
       "      <td>It is a replica of the grotto at Lourdes, Fran...</td>\n",
       "      <td>True</td>\n",
       "      <td>0</td>\n",
       "      <td>0</td>\n",
       "      <td>84</td>\n",
       "      <td>108</td>\n",
       "      <td>5</td>\n",
       "      <td>0.081111</td>\n",
       "    </tr>\n",
       "  </tbody>\n",
       "</table>\n",
       "</div>"
      ],
      "text/plain": [
       "                                                sent isImportant titleId  \\\n",
       "0  Atop the Main Building's gold dome is a golden...        True       0   \n",
       "1  Immediately in front of the Main Building and ...        True       0   \n",
       "2  Next to the Main Building is the Basilica of t...        True       0   \n",
       "3  Immediately behind the basilica is the Grotto,...        True       0   \n",
       "4  It is a replica of the grotto at Lourdes, Fran...        True       0   \n",
       "\n",
       "  paragraphId start  end  ne_count     tfidf  \n",
       "0           0     9   25         1  0.127637  \n",
       "1           0    25   55         3  0.081224  \n",
       "2           0    55   68         3  0.144167  \n",
       "3           0    68   84         2  0.104120  \n",
       "4           0    84  108         5  0.081111  "
      ]
     },
     "execution_count": 179,
     "metadata": {},
     "output_type": "execute_result"
    }
   ],
   "source": [
    "newDf.head()"
   ]
  },
  {
   "cell_type": "code",
   "execution_count": 180,
   "metadata": {},
   "outputs": [
    {
     "name": "stdout",
     "output_type": "stream",
     "text": [
      "Average count of named entities in important 0.04620313991023891\n",
      "Average count of named entities in unimportant 0.046226850622545855\n"
     ]
    }
   ],
   "source": [
    "ne_avg_important = sum(newDf[newDf['isImportant']==True]['tfidf']) / len(newDf[newDf['isImportant']==True])\n",
    "ne_avg_unimportant = sum(newDf[newDf['isImportant']==False]['tfidf']) / len(newDf[newDf['isImportant']==False])\n",
    "\n",
    "print('Average count of named entities in important', ne_avg_important)\n",
    "print('Average count of named entities in unimportant', ne_avg_unimportant)"
   ]
  },
  {
   "cell_type": "code",
   "execution_count": null,
   "metadata": {},
   "outputs": [],
   "source": []
  }
 ],
 "metadata": {
  "kernelspec": {
   "display_name": "Python 3",
   "language": "python",
   "name": "python3"
  },
  "language_info": {
   "codemirror_mode": {
    "name": "ipython",
    "version": 3
   },
   "file_extension": ".py",
   "mimetype": "text/x-python",
   "name": "python",
   "nbconvert_exporter": "python",
   "pygments_lexer": "ipython3",
   "version": "3.7.2"
  }
 },
 "nbformat": 4,
 "nbformat_minor": 4
}
