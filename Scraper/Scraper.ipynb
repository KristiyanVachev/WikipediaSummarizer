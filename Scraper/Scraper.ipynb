{
 "cells": [
  {
   "cell_type": "code",
   "execution_count": 11,
   "metadata": {},
   "outputs": [],
   "source": [
    "from scrapy import Spider\n",
    "from scrapy.selector import Selector\n",
    "import html2text\n",
    "\n",
    "class WikiSpider(Spider):\n",
    "    name = \"wiki_spider\"\n",
    "    allowed_domains = [\"www.wikipedia.org\"]\n",
    "    start_urls = [\"http://en.wikipedia.org/wiki/koala\"]\n",
    "\n",
    "    def parse(self, response):\n",
    "        hxs = Selector(response)\n",
    "        sample = hxs.select(\"//div[@id='mw-content-text']/p[1]\").extract()[0]\n",
    "\n",
    "        converter = html2text.HTML2Text()\n",
    "        converter.ignore_links = True\n",
    "        print(converter.handle(sample)) #Python 3 print syntax\n"
   ]
  },
  {
   "cell_type": "code",
   "execution_count": 12,
   "metadata": {},
   "outputs": [
    {
     "name": "stderr",
     "output_type": "stream",
     "text": [
      "2020-02-13 02:26:06 [scrapy.utils.log] INFO: Scrapy 1.8.0 started (bot: scrapybot)\n",
      "2020-02-13 02:26:06 [scrapy.utils.log] INFO: Versions: lxml 4.5.0.0, libxml2 2.9.5, cssselect 1.1.0, parsel 1.5.2, w3lib 1.21.0, Twisted 19.10.0, Python 3.7.2 (tags/v3.7.2:9a3ffc0492, Dec 23 2018, 23:09:28) [MSC v.1916 64 bit (AMD64)], pyOpenSSL 19.1.0 (OpenSSL 1.1.1d  10 Sep 2019), cryptography 2.8, Platform Windows-10-10.0.18362-SP0\n",
      "Usage\n",
      "=====\n",
      "  scrapy runspider [options] <spider_file>\n",
      "\n",
      "runspider: error: File not found: 'wiki_spider.py'\n",
      "\n"
     ]
    }
   ],
   "source": [
    "!scrapy runspider 'wiki_spider.py'"
   ]
  },
  {
   "cell_type": "code",
   "execution_count": 13,
   "metadata": {},
   "outputs": [],
   "source": [
    "import scrapy\n",
    "\n",
    "\n",
    "class ArticleSpider(scrapy.Spider):\n",
    "    name = \"article\"\n",
    "    start_urls = ['http://blog.theodo.fr/2018/02/scrape-websites-5-minutes-scrapy']\n",
    "\n",
    "    def parse(self, response):\n",
    "        content = response.xpath(\".//div[@class='entry-content']/descendant::text()\").extract()\n",
    "        yield {'article': ''.join(content)}"
   ]
  },
  {
   "cell_type": "code",
   "execution_count": 3,
   "metadata": {},
   "outputs": [],
   "source": [
    "spider = ArticleSpider()"
   ]
  },
  {
   "cell_type": "code",
   "execution_count": 6,
   "metadata": {},
   "outputs": [
    {
     "name": "stderr",
     "output_type": "stream",
     "text": [
      "2020-02-12 21:51:55 [scrapy.utils.log] INFO: Scrapy 1.8.0 started (bot: scrapybot)\n",
      "2020-02-12 21:51:55 [scrapy.utils.log] INFO: Versions: lxml 4.5.0.0, libxml2 2.9.5, cssselect 1.1.0, parsel 1.5.2, w3lib 1.21.0, Twisted 19.10.0, Python 3.7.2 (tags/v3.7.2:9a3ffc0492, Dec 23 2018, 23:09:28) [MSC v.1916 64 bit (AMD64)], pyOpenSSL 19.1.0 (OpenSSL 1.1.1d  10 Sep 2019), cryptography 2.8, Platform Windows-10-10.0.18362-SP0\n",
      "Usage\n",
      "=====\n",
      "  scrapy runspider [options] <spider_file>\n",
      "\n",
      "runspider: error: File not found: 'article'\n",
      "\n"
     ]
    }
   ],
   "source": [
    "!scrapy runspider 'article'"
   ]
  },
  {
   "cell_type": "code",
   "execution_count": null,
   "metadata": {},
   "outputs": [],
   "source": []
  }
 ],
 "metadata": {
  "kernelspec": {
   "display_name": "Python 3",
   "language": "python",
   "name": "python3"
  },
  "language_info": {
   "codemirror_mode": {
    "name": "ipython",
    "version": 3
   },
   "file_extension": ".py",
   "mimetype": "text/x-python",
   "name": "python",
   "nbconvert_exporter": "python",
   "pygments_lexer": "ipython3",
   "version": "3.7.2"
  }
 },
 "nbformat": 4,
 "nbformat_minor": 4
}
