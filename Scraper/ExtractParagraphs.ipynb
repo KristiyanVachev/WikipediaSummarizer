{
 "cells": [
  {
   "cell_type": "code",
   "execution_count": 1,
   "metadata": {},
   "outputs": [],
   "source": [
    "import urllib.request\n",
    "from bs4 import BeautifulSoup"
   ]
  },
  {
   "cell_type": "code",
   "execution_count": 2,
   "metadata": {},
   "outputs": [],
   "source": [
    "url = \"https://en.wikipedia.org/wiki/Koala\"\n",
    "\n",
    "page = urllib.request.urlopen(url)\n",
    "# print(page.read())"
   ]
  },
  {
   "cell_type": "code",
   "execution_count": 3,
   "metadata": {},
   "outputs": [],
   "source": [
    "soup = BeautifulSoup(page)"
   ]
  },
  {
   "cell_type": "code",
   "execution_count": 4,
   "metadata": {},
   "outputs": [],
   "source": [
    "content = soup.find_all(\"div\", {\"class\": \"mw-parser-output\"})"
   ]
  },
  {
   "cell_type": "code",
   "execution_count": 5,
   "metadata": {},
   "outputs": [],
   "source": [
    "paragraphs = content[0].find_all('p')"
   ]
  },
  {
   "cell_type": "code",
   "execution_count": 6,
   "metadata": {},
   "outputs": [],
   "source": [
    "# for p in paragraphs:\n",
    "#     print(p)"
   ]
  },
  {
   "cell_type": "code",
   "execution_count": 7,
   "metadata": {},
   "outputs": [
    {
     "data": {
      "text/plain": [
       "<p>Koalas typically inhabit open <a href=\"/wiki/Eucalypt\" title=\"Eucalypt\">eucalypt</a> woodlands, and the leaves of these trees make up most of their diet. Because this eucalypt diet has limited nutritional and caloric content, koalas are largely <a href=\"/wiki/Sedentary_lifestyle\" title=\"Sedentary lifestyle\">sedentary</a> and sleep up to 20 hours a day. They are asocial animals, and <a href=\"/wiki/Maternal_bond\" title=\"Maternal bond\">bonding</a> exists only between mothers and dependent offspring. Adult males <a href=\"/wiki/Animal_communication\" title=\"Animal communication\">communicate</a> with loud bellows that intimidate rivals and attract mates. Males mark their presence with secretions from <a href=\"/wiki/Scent_gland\" title=\"Scent gland\">scent glands</a> located on their chests. Being marsupials, koalas give birth to underdeveloped young that crawl into their mothers' <a href=\"/wiki/Pouch_(marsupial)\" title=\"Pouch (marsupial)\">pouches</a>, where they stay for the first six to seven months of their lives. These young koalas, known as <a href=\"/wiki/Marsupial#Early_development\" title=\"Marsupial\">joeys</a>, are fully <a class=\"mw-redirect\" href=\"/wiki/Weaned\" title=\"Weaned\">weaned</a> around a year old. Koalas have few natural predators and parasites, but are threatened by various <a href=\"/wiki/Pathogen\" title=\"Pathogen\">pathogens</a>, such as <a href=\"/wiki/Chlamydiaceae\" title=\"Chlamydiaceae\">Chlamydiaceae</a> bacteria and the <a href=\"/wiki/Koala_retrovirus\" title=\"Koala retrovirus\">koala retrovirus</a>.\n",
       "</p>"
      ]
     },
     "execution_count": 7,
     "metadata": {},
     "output_type": "execute_result"
    }
   ],
   "source": [
    "raw_html = paragraphs[4]\n",
    "raw_html"
   ]
  },
  {
   "cell_type": "code",
   "execution_count": 8,
   "metadata": {},
   "outputs": [
    {
     "data": {
      "text/plain": [
       "\"Koalas typically inhabit open eucalypt woodlands, and the leaves of these trees make up most of their diet. Because this eucalypt diet has limited nutritional and caloric content, koalas are largely sedentary and sleep up to 20 hours a day. They are asocial animals, and bonding exists only between mothers and dependent offspring. Adult males communicate with loud bellows that intimidate rivals and attract mates. Males mark their presence with secretions from scent glands located on their chests. Being marsupials, koalas give birth to underdeveloped young that crawl into their mothers' pouches, where they stay for the first six to seven months of their lives. These young koalas, known as joeys, are fully weaned around a year old. Koalas have few natural predators and parasites, but are threatened by various pathogens, such as Chlamydiaceae bacteria and the koala retrovirus.\\n\""
      ]
     },
     "execution_count": 8,
     "metadata": {},
     "output_type": "execute_result"
    }
   ],
   "source": [
    "raw_html.get_text()"
   ]
  },
  {
   "cell_type": "code",
   "execution_count": null,
   "metadata": {},
   "outputs": [],
   "source": []
  },
  {
   "cell_type": "code",
   "execution_count": null,
   "metadata": {},
   "outputs": [],
   "source": []
  }
 ],
 "metadata": {
  "kernelspec": {
   "display_name": "Python 3",
   "language": "python",
   "name": "python3"
  },
  "language_info": {
   "codemirror_mode": {
    "name": "ipython",
    "version": 3
   },
   "file_extension": ".py",
   "mimetype": "text/x-python",
   "name": "python",
   "nbconvert_exporter": "python",
   "pygments_lexer": "ipython3",
   "version": "3.7.2"
  }
 },
 "nbformat": 4,
 "nbformat_minor": 4
}
